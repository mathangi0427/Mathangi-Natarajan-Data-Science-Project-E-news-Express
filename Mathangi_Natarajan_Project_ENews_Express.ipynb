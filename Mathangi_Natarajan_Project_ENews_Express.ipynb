{
  "nbformat": 4,
  "nbformat_minor": 5,
  "metadata": {
    "kernelspec": {
      "display_name": "Python 3",
      "language": "python",
      "name": "python3"
    },
    "language_info": {
      "codemirror_mode": {
        "name": "ipython",
        "version": 3
      },
      "file_extension": ".py",
      "mimetype": "text/x-python",
      "name": "python",
      "nbconvert_exporter": "python",
      "pygments_lexer": "ipython3",
      "version": "3.8.8"
    },
    "colab": {
      "provenance": []
    }
  },
  "cells": [
    {
      "cell_type": "markdown",
      "metadata": {
        "id": "6yDxo9u0d9Na"
      },
      "source": [
        "# Project Business Statistics: E-news Express\n",
        "\n",
        "**Marks: 60**"
      ],
      "id": "6yDxo9u0d9Na"
    },
    {
      "cell_type": "markdown",
      "metadata": {
        "id": "SrLd-ICEmPSD"
      },
      "source": [
        "## Define Problem Statement and Objectives"
      ],
      "id": "SrLd-ICEmPSD"
    },
    {
      "cell_type": "markdown",
      "metadata": {
        "id": "9Vt1PLLqmXNn"
      },
      "source": [
        "\n",
        "##**Business Context**\n",
        "\n",
        "The advent of e-news, or electronic news, portals has offered us a great opportunity to quickly get updates on the day-to-day events occurring globally. The information on these portals is retrieved electronically from online databases, processed using a variety of software, and then transmitted to the users. There are multiple advantages of transmitting new electronically, like faster access to the content and the ability to utilize different technologies such as audio, graphics, video, and other interactive elements that are either not being used or aren’t common yet in traditional newspapers.\n",
        "\n",
        "E-news Express, an online news portal, aims to expand its business by acquiring new subscribers. With every visitor to the website taking certain actions based on their interest, the company plans to analyze these actions to understand user interests and determine how to drive better engagement. The executives at E-news Express are of the opinion that there has been a decline in new monthly subscribers compared to the past year because the current webpage is not designed well enough in terms of the outline & recommended content to keep customers engaged long enough to make a decision to subscribe.\n",
        "\n",
        "\n",
        "##**Objective**\n",
        "\n",
        "The design team of the company has researched and created a new landing page that has a new outline & more relevant content shown compared to the old page. In order to test the effectiveness of the new landing page in gathering new subscribers, the Data Science team conducted an experiment by randomly selecting 100 users and dividing them equally into two groups. The existing landing page was served to the first group (control group) and the new landing page to the second group (treatment group). Data regarding the interaction of users in both groups with the two versions of the landing page was collected. Being a data scientist in E-news Express, you have been asked to explore the data and perform a statistical analysis (at a significance level of 5%) to determine the effectiveness of the new landing page in gathering new subscribers for the news portal by answering the following questions:\n",
        "\n",
        "1. Do the users spend more time on the new landing page than on the existing landing page?\n",
        "2. Is the conversion rate (the proportion of users who visit the landing page and get converted) for the new page greater than the conversion rate for the old page?\n",
        "3. Does the converted status depend on the preferred language?\n",
        "4. Is the time spent on the new page the same for the different language users?"
      ],
      "id": "9Vt1PLLqmXNn"
    },
    {
      "cell_type": "markdown",
      "metadata": {
        "id": "LTSmbXjjZKgw"
      },
      "source": [
        "## Data Dictionary"
      ],
      "id": "LTSmbXjjZKgw"
    },
    {
      "cell_type": "markdown",
      "source": [
        "The data contains information regarding the interaction of users in both groups with the two versions of the landing page.\n",
        "\n",
        "1. user_id - Unique user ID of the person visiting the website\n",
        "\n",
        "2. group - Whether the user belongs to the first group (control) or the second group (treatment)\n",
        "\n",
        "3. landing_page - Whether the landing page is new or old\n",
        "\n",
        "4. time_spent_on_the_page - Time (in minutes) spent by the user on the landing page\n",
        "\n",
        "5. converted - Whether the user gets converted to a subscriber of the news portal or not\n",
        "\n",
        "6. language_preferred - Language chosen by the user to view the landing page"
      ],
      "metadata": {
        "id": "v8dS75OcZTtm"
      },
      "id": "v8dS75OcZTtm"
    },
    {
      "cell_type": "markdown",
      "metadata": {
        "id": "a6a3d218"
      },
      "source": [
        "## Import all the necessary libraries"
      ],
      "id": "a6a3d218"
    },
    {
      "cell_type": "code",
      "metadata": {
        "id": "658c5dec"
      },
      "source": [
        "#import the important packages\n",
        "import pandas as pd #library used for data manipulation and analysis\n",
        "import numpy as np # library used for working with arrays.\n",
        "import matplotlib.pyplot as plt # library for plots and visualisations\n",
        "import seaborn as sns # library for visualisations\n",
        "%matplotlib inline\n",
        "\n",
        "import scipy.stats as stats # this library contains a large number of probability distributions as well as a growing library of statistical functions."
      ],
      "id": "658c5dec",
      "execution_count": 1,
      "outputs": []
    },
    {
      "cell_type": "markdown",
      "metadata": {
        "id": "6970dd99"
      },
      "source": [
        "## Reading the Data into a DataFrame"
      ],
      "id": "6970dd99"
    },
    {
      "cell_type": "code",
      "metadata": {
        "id": "d3b95640"
      },
      "source": [
        "# Read the 'abtest.csv' file and save it in the dataframe 'df'\n",
        "df = pd.read_csv('abtest.csv')"
      ],
      "id": "d3b95640",
      "execution_count": 2,
      "outputs": []
    },
    {
      "cell_type": "markdown",
      "metadata": {
        "id": "9d75cfa2"
      },
      "source": [
        "## Explore the dataset and extract insights using Exploratory Data Analysis"
      ],
      "id": "9d75cfa2"
    },
    {
      "cell_type": "markdown",
      "metadata": {
        "id": "27201534"
      },
      "source": [
        "- Data Overview\n",
        "  - Viewing the first and last few rows of the dataset\n",
        "  - Checking the shape of the dataset\n",
        "  - Getting the statistical summary for the variables\n",
        "- Check for missing values\n",
        "- Check for duplicates"
      ],
      "id": "27201534"
    },
    {
      "cell_type": "markdown",
      "source": [
        "### View the Dataset"
      ],
      "metadata": {
        "id": "4LELUx1qbqsE"
      },
      "id": "4LELUx1qbqsE"
    },
    {
      "cell_type": "code",
      "metadata": {
        "id": "e1ad11d4",
        "colab": {
          "base_uri": "https://localhost:8080/",
          "height": 206
        },
        "outputId": "76604f48-cebd-4063-c9f5-dfa1711c93a3"
      },
      "source": [
        "# View the first 5 rows of the dataset using head function\n",
        "df.head()"
      ],
      "id": "e1ad11d4",
      "execution_count": null,
      "outputs": [
        {
          "output_type": "execute_result",
          "data": {
            "text/plain": [
              "   user_id      group landing_page  time_spent_on_the_page converted  \\\n",
              "0   546592    control          old                    3.48        no   \n",
              "1   546468  treatment          new                    7.13       yes   \n",
              "2   546462  treatment          new                    4.40        no   \n",
              "3   546567    control          old                    3.02        no   \n",
              "4   546459  treatment          new                    4.75       yes   \n",
              "\n",
              "  language_preferred  \n",
              "0            Spanish  \n",
              "1            English  \n",
              "2            Spanish  \n",
              "3             French  \n",
              "4            Spanish  "
            ],
            "text/html": [
              "\n",
              "  <div id=\"df-d4caebd8-19ea-422d-aeab-315eb051b156\" class=\"colab-df-container\">\n",
              "    <div>\n",
              "<style scoped>\n",
              "    .dataframe tbody tr th:only-of-type {\n",
              "        vertical-align: middle;\n",
              "    }\n",
              "\n",
              "    .dataframe tbody tr th {\n",
              "        vertical-align: top;\n",
              "    }\n",
              "\n",
              "    .dataframe thead th {\n",
              "        text-align: right;\n",
              "    }\n",
              "</style>\n",
              "<table border=\"1\" class=\"dataframe\">\n",
              "  <thead>\n",
              "    <tr style=\"text-align: right;\">\n",
              "      <th></th>\n",
              "      <th>user_id</th>\n",
              "      <th>group</th>\n",
              "      <th>landing_page</th>\n",
              "      <th>time_spent_on_the_page</th>\n",
              "      <th>converted</th>\n",
              "      <th>language_preferred</th>\n",
              "    </tr>\n",
              "  </thead>\n",
              "  <tbody>\n",
              "    <tr>\n",
              "      <th>0</th>\n",
              "      <td>546592</td>\n",
              "      <td>control</td>\n",
              "      <td>old</td>\n",
              "      <td>3.48</td>\n",
              "      <td>no</td>\n",
              "      <td>Spanish</td>\n",
              "    </tr>\n",
              "    <tr>\n",
              "      <th>1</th>\n",
              "      <td>546468</td>\n",
              "      <td>treatment</td>\n",
              "      <td>new</td>\n",
              "      <td>7.13</td>\n",
              "      <td>yes</td>\n",
              "      <td>English</td>\n",
              "    </tr>\n",
              "    <tr>\n",
              "      <th>2</th>\n",
              "      <td>546462</td>\n",
              "      <td>treatment</td>\n",
              "      <td>new</td>\n",
              "      <td>4.40</td>\n",
              "      <td>no</td>\n",
              "      <td>Spanish</td>\n",
              "    </tr>\n",
              "    <tr>\n",
              "      <th>3</th>\n",
              "      <td>546567</td>\n",
              "      <td>control</td>\n",
              "      <td>old</td>\n",
              "      <td>3.02</td>\n",
              "      <td>no</td>\n",
              "      <td>French</td>\n",
              "    </tr>\n",
              "    <tr>\n",
              "      <th>4</th>\n",
              "      <td>546459</td>\n",
              "      <td>treatment</td>\n",
              "      <td>new</td>\n",
              "      <td>4.75</td>\n",
              "      <td>yes</td>\n",
              "      <td>Spanish</td>\n",
              "    </tr>\n",
              "  </tbody>\n",
              "</table>\n",
              "</div>\n",
              "    <div class=\"colab-df-buttons\">\n",
              "\n",
              "  <div class=\"colab-df-container\">\n",
              "    <button class=\"colab-df-convert\" onclick=\"convertToInteractive('df-d4caebd8-19ea-422d-aeab-315eb051b156')\"\n",
              "            title=\"Convert this dataframe to an interactive table.\"\n",
              "            style=\"display:none;\">\n",
              "\n",
              "  <svg xmlns=\"http://www.w3.org/2000/svg\" height=\"24px\" viewBox=\"0 -960 960 960\">\n",
              "    <path d=\"M120-120v-720h720v720H120Zm60-500h600v-160H180v160Zm220 220h160v-160H400v160Zm0 220h160v-160H400v160ZM180-400h160v-160H180v160Zm440 0h160v-160H620v160ZM180-180h160v-160H180v160Zm440 0h160v-160H620v160Z\"/>\n",
              "  </svg>\n",
              "    </button>\n",
              "\n",
              "  <style>\n",
              "    .colab-df-container {\n",
              "      display:flex;\n",
              "      gap: 12px;\n",
              "    }\n",
              "\n",
              "    .colab-df-convert {\n",
              "      background-color: #E8F0FE;\n",
              "      border: none;\n",
              "      border-radius: 50%;\n",
              "      cursor: pointer;\n",
              "      display: none;\n",
              "      fill: #1967D2;\n",
              "      height: 32px;\n",
              "      padding: 0 0 0 0;\n",
              "      width: 32px;\n",
              "    }\n",
              "\n",
              "    .colab-df-convert:hover {\n",
              "      background-color: #E2EBFA;\n",
              "      box-shadow: 0px 1px 2px rgba(60, 64, 67, 0.3), 0px 1px 3px 1px rgba(60, 64, 67, 0.15);\n",
              "      fill: #174EA6;\n",
              "    }\n",
              "\n",
              "    .colab-df-buttons div {\n",
              "      margin-bottom: 4px;\n",
              "    }\n",
              "\n",
              "    [theme=dark] .colab-df-convert {\n",
              "      background-color: #3B4455;\n",
              "      fill: #D2E3FC;\n",
              "    }\n",
              "\n",
              "    [theme=dark] .colab-df-convert:hover {\n",
              "      background-color: #434B5C;\n",
              "      box-shadow: 0px 1px 3px 1px rgba(0, 0, 0, 0.15);\n",
              "      filter: drop-shadow(0px 1px 2px rgba(0, 0, 0, 0.3));\n",
              "      fill: #FFFFFF;\n",
              "    }\n",
              "  </style>\n",
              "\n",
              "    <script>\n",
              "      const buttonEl =\n",
              "        document.querySelector('#df-d4caebd8-19ea-422d-aeab-315eb051b156 button.colab-df-convert');\n",
              "      buttonEl.style.display =\n",
              "        google.colab.kernel.accessAllowed ? 'block' : 'none';\n",
              "\n",
              "      async function convertToInteractive(key) {\n",
              "        const element = document.querySelector('#df-d4caebd8-19ea-422d-aeab-315eb051b156');\n",
              "        const dataTable =\n",
              "          await google.colab.kernel.invokeFunction('convertToInteractive',\n",
              "                                                    [key], {});\n",
              "        if (!dataTable) return;\n",
              "\n",
              "        const docLinkHtml = 'Like what you see? Visit the ' +\n",
              "          '<a target=\"_blank\" href=https://colab.research.google.com/notebooks/data_table.ipynb>data table notebook</a>'\n",
              "          + ' to learn more about interactive tables.';\n",
              "        element.innerHTML = '';\n",
              "        dataTable['output_type'] = 'display_data';\n",
              "        await google.colab.output.renderOutput(dataTable, element);\n",
              "        const docLink = document.createElement('div');\n",
              "        docLink.innerHTML = docLinkHtml;\n",
              "        element.appendChild(docLink);\n",
              "      }\n",
              "    </script>\n",
              "  </div>\n",
              "\n",
              "\n",
              "<div id=\"df-7f7857ef-4bc0-4089-b9e3-a1a7657ec85f\">\n",
              "  <button class=\"colab-df-quickchart\" onclick=\"quickchart('df-7f7857ef-4bc0-4089-b9e3-a1a7657ec85f')\"\n",
              "            title=\"Suggest charts.\"\n",
              "            style=\"display:none;\">\n",
              "\n",
              "<svg xmlns=\"http://www.w3.org/2000/svg\" height=\"24px\"viewBox=\"0 0 24 24\"\n",
              "     width=\"24px\">\n",
              "    <g>\n",
              "        <path d=\"M19 3H5c-1.1 0-2 .9-2 2v14c0 1.1.9 2 2 2h14c1.1 0 2-.9 2-2V5c0-1.1-.9-2-2-2zM9 17H7v-7h2v7zm4 0h-2V7h2v10zm4 0h-2v-4h2v4z\"/>\n",
              "    </g>\n",
              "</svg>\n",
              "  </button>\n",
              "\n",
              "<style>\n",
              "  .colab-df-quickchart {\n",
              "      --bg-color: #E8F0FE;\n",
              "      --fill-color: #1967D2;\n",
              "      --hover-bg-color: #E2EBFA;\n",
              "      --hover-fill-color: #174EA6;\n",
              "      --disabled-fill-color: #AAA;\n",
              "      --disabled-bg-color: #DDD;\n",
              "  }\n",
              "\n",
              "  [theme=dark] .colab-df-quickchart {\n",
              "      --bg-color: #3B4455;\n",
              "      --fill-color: #D2E3FC;\n",
              "      --hover-bg-color: #434B5C;\n",
              "      --hover-fill-color: #FFFFFF;\n",
              "      --disabled-bg-color: #3B4455;\n",
              "      --disabled-fill-color: #666;\n",
              "  }\n",
              "\n",
              "  .colab-df-quickchart {\n",
              "    background-color: var(--bg-color);\n",
              "    border: none;\n",
              "    border-radius: 50%;\n",
              "    cursor: pointer;\n",
              "    display: none;\n",
              "    fill: var(--fill-color);\n",
              "    height: 32px;\n",
              "    padding: 0;\n",
              "    width: 32px;\n",
              "  }\n",
              "\n",
              "  .colab-df-quickchart:hover {\n",
              "    background-color: var(--hover-bg-color);\n",
              "    box-shadow: 0 1px 2px rgba(60, 64, 67, 0.3), 0 1px 3px 1px rgba(60, 64, 67, 0.15);\n",
              "    fill: var(--button-hover-fill-color);\n",
              "  }\n",
              "\n",
              "  .colab-df-quickchart-complete:disabled,\n",
              "  .colab-df-quickchart-complete:disabled:hover {\n",
              "    background-color: var(--disabled-bg-color);\n",
              "    fill: var(--disabled-fill-color);\n",
              "    box-shadow: none;\n",
              "  }\n",
              "\n",
              "  .colab-df-spinner {\n",
              "    border: 2px solid var(--fill-color);\n",
              "    border-color: transparent;\n",
              "    border-bottom-color: var(--fill-color);\n",
              "    animation:\n",
              "      spin 1s steps(1) infinite;\n",
              "  }\n",
              "\n",
              "  @keyframes spin {\n",
              "    0% {\n",
              "      border-color: transparent;\n",
              "      border-bottom-color: var(--fill-color);\n",
              "      border-left-color: var(--fill-color);\n",
              "    }\n",
              "    20% {\n",
              "      border-color: transparent;\n",
              "      border-left-color: var(--fill-color);\n",
              "      border-top-color: var(--fill-color);\n",
              "    }\n",
              "    30% {\n",
              "      border-color: transparent;\n",
              "      border-left-color: var(--fill-color);\n",
              "      border-top-color: var(--fill-color);\n",
              "      border-right-color: var(--fill-color);\n",
              "    }\n",
              "    40% {\n",
              "      border-color: transparent;\n",
              "      border-right-color: var(--fill-color);\n",
              "      border-top-color: var(--fill-color);\n",
              "    }\n",
              "    60% {\n",
              "      border-color: transparent;\n",
              "      border-right-color: var(--fill-color);\n",
              "    }\n",
              "    80% {\n",
              "      border-color: transparent;\n",
              "      border-right-color: var(--fill-color);\n",
              "      border-bottom-color: var(--fill-color);\n",
              "    }\n",
              "    90% {\n",
              "      border-color: transparent;\n",
              "      border-bottom-color: var(--fill-color);\n",
              "    }\n",
              "  }\n",
              "</style>\n",
              "\n",
              "  <script>\n",
              "    async function quickchart(key) {\n",
              "      const quickchartButtonEl =\n",
              "        document.querySelector('#' + key + ' button');\n",
              "      quickchartButtonEl.disabled = true;  // To prevent multiple clicks.\n",
              "      quickchartButtonEl.classList.add('colab-df-spinner');\n",
              "      try {\n",
              "        const charts = await google.colab.kernel.invokeFunction(\n",
              "            'suggestCharts', [key], {});\n",
              "      } catch (error) {\n",
              "        console.error('Error during call to suggestCharts:', error);\n",
              "      }\n",
              "      quickchartButtonEl.classList.remove('colab-df-spinner');\n",
              "      quickchartButtonEl.classList.add('colab-df-quickchart-complete');\n",
              "    }\n",
              "    (() => {\n",
              "      let quickchartButtonEl =\n",
              "        document.querySelector('#df-7f7857ef-4bc0-4089-b9e3-a1a7657ec85f button');\n",
              "      quickchartButtonEl.style.display =\n",
              "        google.colab.kernel.accessAllowed ? 'block' : 'none';\n",
              "    })();\n",
              "  </script>\n",
              "</div>\n",
              "    </div>\n",
              "  </div>\n"
            ]
          },
          "metadata": {},
          "execution_count": 24
        }
      ]
    },
    {
      "cell_type": "code",
      "source": [
        "# View the last 5 rows of the dataset using the tail function\n",
        "df.tail()"
      ],
      "metadata": {
        "colab": {
          "base_uri": "https://localhost:8080/",
          "height": 206
        },
        "id": "CGifGx-XbXXD",
        "outputId": "213c43fa-22d2-454b-da0b-c141d5e160b3"
      },
      "id": "CGifGx-XbXXD",
      "execution_count": null,
      "outputs": [
        {
          "output_type": "execute_result",
          "data": {
            "text/plain": [
              "    user_id      group landing_page  time_spent_on_the_page converted  \\\n",
              "95   546446  treatment          new                    5.15        no   \n",
              "96   546544    control          old                    6.52       yes   \n",
              "97   546472  treatment          new                    7.07       yes   \n",
              "98   546481  treatment          new                    6.20       yes   \n",
              "99   546483  treatment          new                    5.86       yes   \n",
              "\n",
              "   language_preferred  \n",
              "95            Spanish  \n",
              "96            English  \n",
              "97            Spanish  \n",
              "98            Spanish  \n",
              "99            English  "
            ],
            "text/html": [
              "\n",
              "  <div id=\"df-f8dceaa8-23ff-4c13-90a1-7a0a5400f871\" class=\"colab-df-container\">\n",
              "    <div>\n",
              "<style scoped>\n",
              "    .dataframe tbody tr th:only-of-type {\n",
              "        vertical-align: middle;\n",
              "    }\n",
              "\n",
              "    .dataframe tbody tr th {\n",
              "        vertical-align: top;\n",
              "    }\n",
              "\n",
              "    .dataframe thead th {\n",
              "        text-align: right;\n",
              "    }\n",
              "</style>\n",
              "<table border=\"1\" class=\"dataframe\">\n",
              "  <thead>\n",
              "    <tr style=\"text-align: right;\">\n",
              "      <th></th>\n",
              "      <th>user_id</th>\n",
              "      <th>group</th>\n",
              "      <th>landing_page</th>\n",
              "      <th>time_spent_on_the_page</th>\n",
              "      <th>converted</th>\n",
              "      <th>language_preferred</th>\n",
              "    </tr>\n",
              "  </thead>\n",
              "  <tbody>\n",
              "    <tr>\n",
              "      <th>95</th>\n",
              "      <td>546446</td>\n",
              "      <td>treatment</td>\n",
              "      <td>new</td>\n",
              "      <td>5.15</td>\n",
              "      <td>no</td>\n",
              "      <td>Spanish</td>\n",
              "    </tr>\n",
              "    <tr>\n",
              "      <th>96</th>\n",
              "      <td>546544</td>\n",
              "      <td>control</td>\n",
              "      <td>old</td>\n",
              "      <td>6.52</td>\n",
              "      <td>yes</td>\n",
              "      <td>English</td>\n",
              "    </tr>\n",
              "    <tr>\n",
              "      <th>97</th>\n",
              "      <td>546472</td>\n",
              "      <td>treatment</td>\n",
              "      <td>new</td>\n",
              "      <td>7.07</td>\n",
              "      <td>yes</td>\n",
              "      <td>Spanish</td>\n",
              "    </tr>\n",
              "    <tr>\n",
              "      <th>98</th>\n",
              "      <td>546481</td>\n",
              "      <td>treatment</td>\n",
              "      <td>new</td>\n",
              "      <td>6.20</td>\n",
              "      <td>yes</td>\n",
              "      <td>Spanish</td>\n",
              "    </tr>\n",
              "    <tr>\n",
              "      <th>99</th>\n",
              "      <td>546483</td>\n",
              "      <td>treatment</td>\n",
              "      <td>new</td>\n",
              "      <td>5.86</td>\n",
              "      <td>yes</td>\n",
              "      <td>English</td>\n",
              "    </tr>\n",
              "  </tbody>\n",
              "</table>\n",
              "</div>\n",
              "    <div class=\"colab-df-buttons\">\n",
              "\n",
              "  <div class=\"colab-df-container\">\n",
              "    <button class=\"colab-df-convert\" onclick=\"convertToInteractive('df-f8dceaa8-23ff-4c13-90a1-7a0a5400f871')\"\n",
              "            title=\"Convert this dataframe to an interactive table.\"\n",
              "            style=\"display:none;\">\n",
              "\n",
              "  <svg xmlns=\"http://www.w3.org/2000/svg\" height=\"24px\" viewBox=\"0 -960 960 960\">\n",
              "    <path d=\"M120-120v-720h720v720H120Zm60-500h600v-160H180v160Zm220 220h160v-160H400v160Zm0 220h160v-160H400v160ZM180-400h160v-160H180v160Zm440 0h160v-160H620v160ZM180-180h160v-160H180v160Zm440 0h160v-160H620v160Z\"/>\n",
              "  </svg>\n",
              "    </button>\n",
              "\n",
              "  <style>\n",
              "    .colab-df-container {\n",
              "      display:flex;\n",
              "      gap: 12px;\n",
              "    }\n",
              "\n",
              "    .colab-df-convert {\n",
              "      background-color: #E8F0FE;\n",
              "      border: none;\n",
              "      border-radius: 50%;\n",
              "      cursor: pointer;\n",
              "      display: none;\n",
              "      fill: #1967D2;\n",
              "      height: 32px;\n",
              "      padding: 0 0 0 0;\n",
              "      width: 32px;\n",
              "    }\n",
              "\n",
              "    .colab-df-convert:hover {\n",
              "      background-color: #E2EBFA;\n",
              "      box-shadow: 0px 1px 2px rgba(60, 64, 67, 0.3), 0px 1px 3px 1px rgba(60, 64, 67, 0.15);\n",
              "      fill: #174EA6;\n",
              "    }\n",
              "\n",
              "    .colab-df-buttons div {\n",
              "      margin-bottom: 4px;\n",
              "    }\n",
              "\n",
              "    [theme=dark] .colab-df-convert {\n",
              "      background-color: #3B4455;\n",
              "      fill: #D2E3FC;\n",
              "    }\n",
              "\n",
              "    [theme=dark] .colab-df-convert:hover {\n",
              "      background-color: #434B5C;\n",
              "      box-shadow: 0px 1px 3px 1px rgba(0, 0, 0, 0.15);\n",
              "      filter: drop-shadow(0px 1px 2px rgba(0, 0, 0, 0.3));\n",
              "      fill: #FFFFFF;\n",
              "    }\n",
              "  </style>\n",
              "\n",
              "    <script>\n",
              "      const buttonEl =\n",
              "        document.querySelector('#df-f8dceaa8-23ff-4c13-90a1-7a0a5400f871 button.colab-df-convert');\n",
              "      buttonEl.style.display =\n",
              "        google.colab.kernel.accessAllowed ? 'block' : 'none';\n",
              "\n",
              "      async function convertToInteractive(key) {\n",
              "        const element = document.querySelector('#df-f8dceaa8-23ff-4c13-90a1-7a0a5400f871');\n",
              "        const dataTable =\n",
              "          await google.colab.kernel.invokeFunction('convertToInteractive',\n",
              "                                                    [key], {});\n",
              "        if (!dataTable) return;\n",
              "\n",
              "        const docLinkHtml = 'Like what you see? Visit the ' +\n",
              "          '<a target=\"_blank\" href=https://colab.research.google.com/notebooks/data_table.ipynb>data table notebook</a>'\n",
              "          + ' to learn more about interactive tables.';\n",
              "        element.innerHTML = '';\n",
              "        dataTable['output_type'] = 'display_data';\n",
              "        await google.colab.output.renderOutput(dataTable, element);\n",
              "        const docLink = document.createElement('div');\n",
              "        docLink.innerHTML = docLinkHtml;\n",
              "        element.appendChild(docLink);\n",
              "      }\n",
              "    </script>\n",
              "  </div>\n",
              "\n",
              "\n",
              "<div id=\"df-6f7c154b-ca1a-4b69-877a-a56ff729cab9\">\n",
              "  <button class=\"colab-df-quickchart\" onclick=\"quickchart('df-6f7c154b-ca1a-4b69-877a-a56ff729cab9')\"\n",
              "            title=\"Suggest charts.\"\n",
              "            style=\"display:none;\">\n",
              "\n",
              "<svg xmlns=\"http://www.w3.org/2000/svg\" height=\"24px\"viewBox=\"0 0 24 24\"\n",
              "     width=\"24px\">\n",
              "    <g>\n",
              "        <path d=\"M19 3H5c-1.1 0-2 .9-2 2v14c0 1.1.9 2 2 2h14c1.1 0 2-.9 2-2V5c0-1.1-.9-2-2-2zM9 17H7v-7h2v7zm4 0h-2V7h2v10zm4 0h-2v-4h2v4z\"/>\n",
              "    </g>\n",
              "</svg>\n",
              "  </button>\n",
              "\n",
              "<style>\n",
              "  .colab-df-quickchart {\n",
              "      --bg-color: #E8F0FE;\n",
              "      --fill-color: #1967D2;\n",
              "      --hover-bg-color: #E2EBFA;\n",
              "      --hover-fill-color: #174EA6;\n",
              "      --disabled-fill-color: #AAA;\n",
              "      --disabled-bg-color: #DDD;\n",
              "  }\n",
              "\n",
              "  [theme=dark] .colab-df-quickchart {\n",
              "      --bg-color: #3B4455;\n",
              "      --fill-color: #D2E3FC;\n",
              "      --hover-bg-color: #434B5C;\n",
              "      --hover-fill-color: #FFFFFF;\n",
              "      --disabled-bg-color: #3B4455;\n",
              "      --disabled-fill-color: #666;\n",
              "  }\n",
              "\n",
              "  .colab-df-quickchart {\n",
              "    background-color: var(--bg-color);\n",
              "    border: none;\n",
              "    border-radius: 50%;\n",
              "    cursor: pointer;\n",
              "    display: none;\n",
              "    fill: var(--fill-color);\n",
              "    height: 32px;\n",
              "    padding: 0;\n",
              "    width: 32px;\n",
              "  }\n",
              "\n",
              "  .colab-df-quickchart:hover {\n",
              "    background-color: var(--hover-bg-color);\n",
              "    box-shadow: 0 1px 2px rgba(60, 64, 67, 0.3), 0 1px 3px 1px rgba(60, 64, 67, 0.15);\n",
              "    fill: var(--button-hover-fill-color);\n",
              "  }\n",
              "\n",
              "  .colab-df-quickchart-complete:disabled,\n",
              "  .colab-df-quickchart-complete:disabled:hover {\n",
              "    background-color: var(--disabled-bg-color);\n",
              "    fill: var(--disabled-fill-color);\n",
              "    box-shadow: none;\n",
              "  }\n",
              "\n",
              "  .colab-df-spinner {\n",
              "    border: 2px solid var(--fill-color);\n",
              "    border-color: transparent;\n",
              "    border-bottom-color: var(--fill-color);\n",
              "    animation:\n",
              "      spin 1s steps(1) infinite;\n",
              "  }\n",
              "\n",
              "  @keyframes spin {\n",
              "    0% {\n",
              "      border-color: transparent;\n",
              "      border-bottom-color: var(--fill-color);\n",
              "      border-left-color: var(--fill-color);\n",
              "    }\n",
              "    20% {\n",
              "      border-color: transparent;\n",
              "      border-left-color: var(--fill-color);\n",
              "      border-top-color: var(--fill-color);\n",
              "    }\n",
              "    30% {\n",
              "      border-color: transparent;\n",
              "      border-left-color: var(--fill-color);\n",
              "      border-top-color: var(--fill-color);\n",
              "      border-right-color: var(--fill-color);\n",
              "    }\n",
              "    40% {\n",
              "      border-color: transparent;\n",
              "      border-right-color: var(--fill-color);\n",
              "      border-top-color: var(--fill-color);\n",
              "    }\n",
              "    60% {\n",
              "      border-color: transparent;\n",
              "      border-right-color: var(--fill-color);\n",
              "    }\n",
              "    80% {\n",
              "      border-color: transparent;\n",
              "      border-right-color: var(--fill-color);\n",
              "      border-bottom-color: var(--fill-color);\n",
              "    }\n",
              "    90% {\n",
              "      border-color: transparent;\n",
              "      border-bottom-color: var(--fill-color);\n",
              "    }\n",
              "  }\n",
              "</style>\n",
              "\n",
              "  <script>\n",
              "    async function quickchart(key) {\n",
              "      const quickchartButtonEl =\n",
              "        document.querySelector('#' + key + ' button');\n",
              "      quickchartButtonEl.disabled = true;  // To prevent multiple clicks.\n",
              "      quickchartButtonEl.classList.add('colab-df-spinner');\n",
              "      try {\n",
              "        const charts = await google.colab.kernel.invokeFunction(\n",
              "            'suggestCharts', [key], {});\n",
              "      } catch (error) {\n",
              "        console.error('Error during call to suggestCharts:', error);\n",
              "      }\n",
              "      quickchartButtonEl.classList.remove('colab-df-spinner');\n",
              "      quickchartButtonEl.classList.add('colab-df-quickchart-complete');\n",
              "    }\n",
              "    (() => {\n",
              "      let quickchartButtonEl =\n",
              "        document.querySelector('#df-6f7c154b-ca1a-4b69-877a-a56ff729cab9 button');\n",
              "      quickchartButtonEl.style.display =\n",
              "        google.colab.kernel.accessAllowed ? 'block' : 'none';\n",
              "    })();\n",
              "  </script>\n",
              "</div>\n",
              "    </div>\n",
              "  </div>\n"
            ]
          },
          "metadata": {},
          "execution_count": 25
        }
      ]
    },
    {
      "cell_type": "markdown",
      "source": [
        "### Shape of the dataset"
      ],
      "metadata": {
        "id": "bU2gVBuxb0xq"
      },
      "id": "bU2gVBuxb0xq"
    },
    {
      "cell_type": "code",
      "source": [
        "# check the shape of the dataset\n",
        "df.shape"
      ],
      "metadata": {
        "colab": {
          "base_uri": "https://localhost:8080/"
        },
        "id": "Rl2vUDfzb4cK",
        "outputId": "b4890523-1a90-4ea4-c832-00c17ea47c42"
      },
      "id": "Rl2vUDfzb4cK",
      "execution_count": null,
      "outputs": [
        {
          "output_type": "execute_result",
          "data": {
            "text/plain": [
              "(100, 6)"
            ]
          },
          "metadata": {},
          "execution_count": 26
        }
      ]
    },
    {
      "cell_type": "markdown",
      "source": [
        "There are 100 rows and 6 columns in the dataset"
      ],
      "metadata": {
        "id": "AZuVwqg9cmn1"
      },
      "id": "AZuVwqg9cmn1"
    },
    {
      "cell_type": "markdown",
      "source": [
        "### Data types of the columns in the dataset"
      ],
      "metadata": {
        "id": "SiZqv0iqcSUR"
      },
      "id": "SiZqv0iqcSUR"
    },
    {
      "cell_type": "code",
      "source": [
        "# check the datatypes of the columns\n",
        "df.info()"
      ],
      "metadata": {
        "colab": {
          "base_uri": "https://localhost:8080/"
        },
        "id": "x5jKeSZicXx3",
        "outputId": "8f1650d4-4c75-4f9a-df39-9541b0abe173"
      },
      "id": "x5jKeSZicXx3",
      "execution_count": null,
      "outputs": [
        {
          "output_type": "stream",
          "name": "stdout",
          "text": [
            "<class 'pandas.core.frame.DataFrame'>\n",
            "RangeIndex: 100 entries, 0 to 99\n",
            "Data columns (total 6 columns):\n",
            " #   Column                  Non-Null Count  Dtype  \n",
            "---  ------                  --------------  -----  \n",
            " 0   user_id                 100 non-null    int64  \n",
            " 1   group                   100 non-null    object \n",
            " 2   landing_page            100 non-null    object \n",
            " 3   time_spent_on_the_page  100 non-null    float64\n",
            " 4   converted               100 non-null    object \n",
            " 5   language_preferred      100 non-null    object \n",
            "dtypes: float64(1), int64(1), object(4)\n",
            "memory usage: 4.8+ KB\n"
          ]
        }
      ]
    },
    {
      "cell_type": "markdown",
      "source": [
        "There are 3 datatypes in the abtest dataset\n",
        "\n",
        "*   User_id is of type int64\n",
        "*   group, landing_page, converted and language_preferred are of type object\n",
        "*   time_spent_on_the_page is of type float64\n",
        "\n",
        "\n",
        "\n",
        "\n"
      ],
      "metadata": {
        "id": "eTgYlR4Lc15Q"
      },
      "id": "eTgYlR4Lc15Q"
    },
    {
      "cell_type": "markdown",
      "source": [
        "### Statistical summary of the numerical variables"
      ],
      "metadata": {
        "id": "_cBncFUgdwDt"
      },
      "id": "_cBncFUgdwDt"
    },
    {
      "cell_type": "code",
      "source": [
        "# Get the statistical summary\n",
        "df.describe().T"
      ],
      "metadata": {
        "colab": {
          "base_uri": "https://localhost:8080/",
          "height": 112
        },
        "id": "NY_rq7audzoU",
        "outputId": "c23d4b27-4bad-4895-cc24-d61989980da4"
      },
      "id": "NY_rq7audzoU",
      "execution_count": null,
      "outputs": [
        {
          "output_type": "execute_result",
          "data": {
            "text/plain": [
              "                        count         mean        std        min        25%  \\\n",
              "user_id                 100.0  546517.0000  52.295779  546443.00  546467.75   \n",
              "time_spent_on_the_page  100.0       5.3778   2.378166       0.19       3.88   \n",
              "\n",
              "                               50%          75%        max  \n",
              "user_id                 546492.500  546567.2500  546592.00  \n",
              "time_spent_on_the_page       5.415       7.0225      10.71  "
            ],
            "text/html": [
              "\n",
              "  <div id=\"df-8c1efd4b-371c-47ae-bc36-ae86219d34b8\" class=\"colab-df-container\">\n",
              "    <div>\n",
              "<style scoped>\n",
              "    .dataframe tbody tr th:only-of-type {\n",
              "        vertical-align: middle;\n",
              "    }\n",
              "\n",
              "    .dataframe tbody tr th {\n",
              "        vertical-align: top;\n",
              "    }\n",
              "\n",
              "    .dataframe thead th {\n",
              "        text-align: right;\n",
              "    }\n",
              "</style>\n",
              "<table border=\"1\" class=\"dataframe\">\n",
              "  <thead>\n",
              "    <tr style=\"text-align: right;\">\n",
              "      <th></th>\n",
              "      <th>count</th>\n",
              "      <th>mean</th>\n",
              "      <th>std</th>\n",
              "      <th>min</th>\n",
              "      <th>25%</th>\n",
              "      <th>50%</th>\n",
              "      <th>75%</th>\n",
              "      <th>max</th>\n",
              "    </tr>\n",
              "  </thead>\n",
              "  <tbody>\n",
              "    <tr>\n",
              "      <th>user_id</th>\n",
              "      <td>100.0</td>\n",
              "      <td>546517.0000</td>\n",
              "      <td>52.295779</td>\n",
              "      <td>546443.00</td>\n",
              "      <td>546467.75</td>\n",
              "      <td>546492.500</td>\n",
              "      <td>546567.2500</td>\n",
              "      <td>546592.00</td>\n",
              "    </tr>\n",
              "    <tr>\n",
              "      <th>time_spent_on_the_page</th>\n",
              "      <td>100.0</td>\n",
              "      <td>5.3778</td>\n",
              "      <td>2.378166</td>\n",
              "      <td>0.19</td>\n",
              "      <td>3.88</td>\n",
              "      <td>5.415</td>\n",
              "      <td>7.0225</td>\n",
              "      <td>10.71</td>\n",
              "    </tr>\n",
              "  </tbody>\n",
              "</table>\n",
              "</div>\n",
              "    <div class=\"colab-df-buttons\">\n",
              "\n",
              "  <div class=\"colab-df-container\">\n",
              "    <button class=\"colab-df-convert\" onclick=\"convertToInteractive('df-8c1efd4b-371c-47ae-bc36-ae86219d34b8')\"\n",
              "            title=\"Convert this dataframe to an interactive table.\"\n",
              "            style=\"display:none;\">\n",
              "\n",
              "  <svg xmlns=\"http://www.w3.org/2000/svg\" height=\"24px\" viewBox=\"0 -960 960 960\">\n",
              "    <path d=\"M120-120v-720h720v720H120Zm60-500h600v-160H180v160Zm220 220h160v-160H400v160Zm0 220h160v-160H400v160ZM180-400h160v-160H180v160Zm440 0h160v-160H620v160ZM180-180h160v-160H180v160Zm440 0h160v-160H620v160Z\"/>\n",
              "  </svg>\n",
              "    </button>\n",
              "\n",
              "  <style>\n",
              "    .colab-df-container {\n",
              "      display:flex;\n",
              "      gap: 12px;\n",
              "    }\n",
              "\n",
              "    .colab-df-convert {\n",
              "      background-color: #E8F0FE;\n",
              "      border: none;\n",
              "      border-radius: 50%;\n",
              "      cursor: pointer;\n",
              "      display: none;\n",
              "      fill: #1967D2;\n",
              "      height: 32px;\n",
              "      padding: 0 0 0 0;\n",
              "      width: 32px;\n",
              "    }\n",
              "\n",
              "    .colab-df-convert:hover {\n",
              "      background-color: #E2EBFA;\n",
              "      box-shadow: 0px 1px 2px rgba(60, 64, 67, 0.3), 0px 1px 3px 1px rgba(60, 64, 67, 0.15);\n",
              "      fill: #174EA6;\n",
              "    }\n",
              "\n",
              "    .colab-df-buttons div {\n",
              "      margin-bottom: 4px;\n",
              "    }\n",
              "\n",
              "    [theme=dark] .colab-df-convert {\n",
              "      background-color: #3B4455;\n",
              "      fill: #D2E3FC;\n",
              "    }\n",
              "\n",
              "    [theme=dark] .colab-df-convert:hover {\n",
              "      background-color: #434B5C;\n",
              "      box-shadow: 0px 1px 3px 1px rgba(0, 0, 0, 0.15);\n",
              "      filter: drop-shadow(0px 1px 2px rgba(0, 0, 0, 0.3));\n",
              "      fill: #FFFFFF;\n",
              "    }\n",
              "  </style>\n",
              "\n",
              "    <script>\n",
              "      const buttonEl =\n",
              "        document.querySelector('#df-8c1efd4b-371c-47ae-bc36-ae86219d34b8 button.colab-df-convert');\n",
              "      buttonEl.style.display =\n",
              "        google.colab.kernel.accessAllowed ? 'block' : 'none';\n",
              "\n",
              "      async function convertToInteractive(key) {\n",
              "        const element = document.querySelector('#df-8c1efd4b-371c-47ae-bc36-ae86219d34b8');\n",
              "        const dataTable =\n",
              "          await google.colab.kernel.invokeFunction('convertToInteractive',\n",
              "                                                    [key], {});\n",
              "        if (!dataTable) return;\n",
              "\n",
              "        const docLinkHtml = 'Like what you see? Visit the ' +\n",
              "          '<a target=\"_blank\" href=https://colab.research.google.com/notebooks/data_table.ipynb>data table notebook</a>'\n",
              "          + ' to learn more about interactive tables.';\n",
              "        element.innerHTML = '';\n",
              "        dataTable['output_type'] = 'display_data';\n",
              "        await google.colab.output.renderOutput(dataTable, element);\n",
              "        const docLink = document.createElement('div');\n",
              "        docLink.innerHTML = docLinkHtml;\n",
              "        element.appendChild(docLink);\n",
              "      }\n",
              "    </script>\n",
              "  </div>\n",
              "\n",
              "\n",
              "<div id=\"df-b30bc7a0-0e06-4ad7-872d-9f8cd42188b2\">\n",
              "  <button class=\"colab-df-quickchart\" onclick=\"quickchart('df-b30bc7a0-0e06-4ad7-872d-9f8cd42188b2')\"\n",
              "            title=\"Suggest charts.\"\n",
              "            style=\"display:none;\">\n",
              "\n",
              "<svg xmlns=\"http://www.w3.org/2000/svg\" height=\"24px\"viewBox=\"0 0 24 24\"\n",
              "     width=\"24px\">\n",
              "    <g>\n",
              "        <path d=\"M19 3H5c-1.1 0-2 .9-2 2v14c0 1.1.9 2 2 2h14c1.1 0 2-.9 2-2V5c0-1.1-.9-2-2-2zM9 17H7v-7h2v7zm4 0h-2V7h2v10zm4 0h-2v-4h2v4z\"/>\n",
              "    </g>\n",
              "</svg>\n",
              "  </button>\n",
              "\n",
              "<style>\n",
              "  .colab-df-quickchart {\n",
              "      --bg-color: #E8F0FE;\n",
              "      --fill-color: #1967D2;\n",
              "      --hover-bg-color: #E2EBFA;\n",
              "      --hover-fill-color: #174EA6;\n",
              "      --disabled-fill-color: #AAA;\n",
              "      --disabled-bg-color: #DDD;\n",
              "  }\n",
              "\n",
              "  [theme=dark] .colab-df-quickchart {\n",
              "      --bg-color: #3B4455;\n",
              "      --fill-color: #D2E3FC;\n",
              "      --hover-bg-color: #434B5C;\n",
              "      --hover-fill-color: #FFFFFF;\n",
              "      --disabled-bg-color: #3B4455;\n",
              "      --disabled-fill-color: #666;\n",
              "  }\n",
              "\n",
              "  .colab-df-quickchart {\n",
              "    background-color: var(--bg-color);\n",
              "    border: none;\n",
              "    border-radius: 50%;\n",
              "    cursor: pointer;\n",
              "    display: none;\n",
              "    fill: var(--fill-color);\n",
              "    height: 32px;\n",
              "    padding: 0;\n",
              "    width: 32px;\n",
              "  }\n",
              "\n",
              "  .colab-df-quickchart:hover {\n",
              "    background-color: var(--hover-bg-color);\n",
              "    box-shadow: 0 1px 2px rgba(60, 64, 67, 0.3), 0 1px 3px 1px rgba(60, 64, 67, 0.15);\n",
              "    fill: var(--button-hover-fill-color);\n",
              "  }\n",
              "\n",
              "  .colab-df-quickchart-complete:disabled,\n",
              "  .colab-df-quickchart-complete:disabled:hover {\n",
              "    background-color: var(--disabled-bg-color);\n",
              "    fill: var(--disabled-fill-color);\n",
              "    box-shadow: none;\n",
              "  }\n",
              "\n",
              "  .colab-df-spinner {\n",
              "    border: 2px solid var(--fill-color);\n",
              "    border-color: transparent;\n",
              "    border-bottom-color: var(--fill-color);\n",
              "    animation:\n",
              "      spin 1s steps(1) infinite;\n",
              "  }\n",
              "\n",
              "  @keyframes spin {\n",
              "    0% {\n",
              "      border-color: transparent;\n",
              "      border-bottom-color: var(--fill-color);\n",
              "      border-left-color: var(--fill-color);\n",
              "    }\n",
              "    20% {\n",
              "      border-color: transparent;\n",
              "      border-left-color: var(--fill-color);\n",
              "      border-top-color: var(--fill-color);\n",
              "    }\n",
              "    30% {\n",
              "      border-color: transparent;\n",
              "      border-left-color: var(--fill-color);\n",
              "      border-top-color: var(--fill-color);\n",
              "      border-right-color: var(--fill-color);\n",
              "    }\n",
              "    40% {\n",
              "      border-color: transparent;\n",
              "      border-right-color: var(--fill-color);\n",
              "      border-top-color: var(--fill-color);\n",
              "    }\n",
              "    60% {\n",
              "      border-color: transparent;\n",
              "      border-right-color: var(--fill-color);\n",
              "    }\n",
              "    80% {\n",
              "      border-color: transparent;\n",
              "      border-right-color: var(--fill-color);\n",
              "      border-bottom-color: var(--fill-color);\n",
              "    }\n",
              "    90% {\n",
              "      border-color: transparent;\n",
              "      border-bottom-color: var(--fill-color);\n",
              "    }\n",
              "  }\n",
              "</style>\n",
              "\n",
              "  <script>\n",
              "    async function quickchart(key) {\n",
              "      const quickchartButtonEl =\n",
              "        document.querySelector('#' + key + ' button');\n",
              "      quickchartButtonEl.disabled = true;  // To prevent multiple clicks.\n",
              "      quickchartButtonEl.classList.add('colab-df-spinner');\n",
              "      try {\n",
              "        const charts = await google.colab.kernel.invokeFunction(\n",
              "            'suggestCharts', [key], {});\n",
              "      } catch (error) {\n",
              "        console.error('Error during call to suggestCharts:', error);\n",
              "      }\n",
              "      quickchartButtonEl.classList.remove('colab-df-spinner');\n",
              "      quickchartButtonEl.classList.add('colab-df-quickchart-complete');\n",
              "    }\n",
              "    (() => {\n",
              "      let quickchartButtonEl =\n",
              "        document.querySelector('#df-b30bc7a0-0e06-4ad7-872d-9f8cd42188b2 button');\n",
              "      quickchartButtonEl.style.display =\n",
              "        google.colab.kernel.accessAllowed ? 'block' : 'none';\n",
              "    })();\n",
              "  </script>\n",
              "</div>\n",
              "    </div>\n",
              "  </div>\n"
            ]
          },
          "metadata": {},
          "execution_count": 28
        }
      ]
    },
    {
      "cell_type": "markdown",
      "source": [
        "**Observations of statistical summary - Numerical Variables**\n",
        "\n",
        "\n",
        "\n",
        "*   The mean and the median time spent on the page are almost same giving us an idea that the distribution is normal distribution.\n",
        "*   The maximum time spent on the page is around 10 minutes compared to a minimum time of 19 seconds.\n",
        "*   75% of the users have spent atleast 7 minutes on the page.\n",
        "\n",
        "\n",
        "\n",
        "\n"
      ],
      "metadata": {
        "id": "MJK8rnmWeiKD"
      },
      "id": "MJK8rnmWeiKD"
    },
    {
      "cell_type": "markdown",
      "source": [
        "### Statistical summary of the categorical variables"
      ],
      "metadata": {
        "id": "nk9yLOZnhrHL"
      },
      "id": "nk9yLOZnhrHL"
    },
    {
      "cell_type": "code",
      "source": [
        "df.describe(include='object').T"
      ],
      "metadata": {
        "colab": {
          "base_uri": "https://localhost:8080/",
          "height": 175
        },
        "id": "vV4pESqfgNW4",
        "outputId": "fdb54be2-e6e6-419f-9eb7-45d207a30453"
      },
      "id": "vV4pESqfgNW4",
      "execution_count": null,
      "outputs": [
        {
          "output_type": "execute_result",
          "data": {
            "text/plain": [
              "                   count unique      top freq\n",
              "group                100      2  control   50\n",
              "landing_page         100      2      old   50\n",
              "converted            100      2      yes   54\n",
              "language_preferred   100      3  Spanish   34"
            ],
            "text/html": [
              "\n",
              "  <div id=\"df-1d32eb46-13bf-45e5-ae58-652ed255c500\" class=\"colab-df-container\">\n",
              "    <div>\n",
              "<style scoped>\n",
              "    .dataframe tbody tr th:only-of-type {\n",
              "        vertical-align: middle;\n",
              "    }\n",
              "\n",
              "    .dataframe tbody tr th {\n",
              "        vertical-align: top;\n",
              "    }\n",
              "\n",
              "    .dataframe thead th {\n",
              "        text-align: right;\n",
              "    }\n",
              "</style>\n",
              "<table border=\"1\" class=\"dataframe\">\n",
              "  <thead>\n",
              "    <tr style=\"text-align: right;\">\n",
              "      <th></th>\n",
              "      <th>count</th>\n",
              "      <th>unique</th>\n",
              "      <th>top</th>\n",
              "      <th>freq</th>\n",
              "    </tr>\n",
              "  </thead>\n",
              "  <tbody>\n",
              "    <tr>\n",
              "      <th>group</th>\n",
              "      <td>100</td>\n",
              "      <td>2</td>\n",
              "      <td>control</td>\n",
              "      <td>50</td>\n",
              "    </tr>\n",
              "    <tr>\n",
              "      <th>landing_page</th>\n",
              "      <td>100</td>\n",
              "      <td>2</td>\n",
              "      <td>old</td>\n",
              "      <td>50</td>\n",
              "    </tr>\n",
              "    <tr>\n",
              "      <th>converted</th>\n",
              "      <td>100</td>\n",
              "      <td>2</td>\n",
              "      <td>yes</td>\n",
              "      <td>54</td>\n",
              "    </tr>\n",
              "    <tr>\n",
              "      <th>language_preferred</th>\n",
              "      <td>100</td>\n",
              "      <td>3</td>\n",
              "      <td>Spanish</td>\n",
              "      <td>34</td>\n",
              "    </tr>\n",
              "  </tbody>\n",
              "</table>\n",
              "</div>\n",
              "    <div class=\"colab-df-buttons\">\n",
              "\n",
              "  <div class=\"colab-df-container\">\n",
              "    <button class=\"colab-df-convert\" onclick=\"convertToInteractive('df-1d32eb46-13bf-45e5-ae58-652ed255c500')\"\n",
              "            title=\"Convert this dataframe to an interactive table.\"\n",
              "            style=\"display:none;\">\n",
              "\n",
              "  <svg xmlns=\"http://www.w3.org/2000/svg\" height=\"24px\" viewBox=\"0 -960 960 960\">\n",
              "    <path d=\"M120-120v-720h720v720H120Zm60-500h600v-160H180v160Zm220 220h160v-160H400v160Zm0 220h160v-160H400v160ZM180-400h160v-160H180v160Zm440 0h160v-160H620v160ZM180-180h160v-160H180v160Zm440 0h160v-160H620v160Z\"/>\n",
              "  </svg>\n",
              "    </button>\n",
              "\n",
              "  <style>\n",
              "    .colab-df-container {\n",
              "      display:flex;\n",
              "      gap: 12px;\n",
              "    }\n",
              "\n",
              "    .colab-df-convert {\n",
              "      background-color: #E8F0FE;\n",
              "      border: none;\n",
              "      border-radius: 50%;\n",
              "      cursor: pointer;\n",
              "      display: none;\n",
              "      fill: #1967D2;\n",
              "      height: 32px;\n",
              "      padding: 0 0 0 0;\n",
              "      width: 32px;\n",
              "    }\n",
              "\n",
              "    .colab-df-convert:hover {\n",
              "      background-color: #E2EBFA;\n",
              "      box-shadow: 0px 1px 2px rgba(60, 64, 67, 0.3), 0px 1px 3px 1px rgba(60, 64, 67, 0.15);\n",
              "      fill: #174EA6;\n",
              "    }\n",
              "\n",
              "    .colab-df-buttons div {\n",
              "      margin-bottom: 4px;\n",
              "    }\n",
              "\n",
              "    [theme=dark] .colab-df-convert {\n",
              "      background-color: #3B4455;\n",
              "      fill: #D2E3FC;\n",
              "    }\n",
              "\n",
              "    [theme=dark] .colab-df-convert:hover {\n",
              "      background-color: #434B5C;\n",
              "      box-shadow: 0px 1px 3px 1px rgba(0, 0, 0, 0.15);\n",
              "      filter: drop-shadow(0px 1px 2px rgba(0, 0, 0, 0.3));\n",
              "      fill: #FFFFFF;\n",
              "    }\n",
              "  </style>\n",
              "\n",
              "    <script>\n",
              "      const buttonEl =\n",
              "        document.querySelector('#df-1d32eb46-13bf-45e5-ae58-652ed255c500 button.colab-df-convert');\n",
              "      buttonEl.style.display =\n",
              "        google.colab.kernel.accessAllowed ? 'block' : 'none';\n",
              "\n",
              "      async function convertToInteractive(key) {\n",
              "        const element = document.querySelector('#df-1d32eb46-13bf-45e5-ae58-652ed255c500');\n",
              "        const dataTable =\n",
              "          await google.colab.kernel.invokeFunction('convertToInteractive',\n",
              "                                                    [key], {});\n",
              "        if (!dataTable) return;\n",
              "\n",
              "        const docLinkHtml = 'Like what you see? Visit the ' +\n",
              "          '<a target=\"_blank\" href=https://colab.research.google.com/notebooks/data_table.ipynb>data table notebook</a>'\n",
              "          + ' to learn more about interactive tables.';\n",
              "        element.innerHTML = '';\n",
              "        dataTable['output_type'] = 'display_data';\n",
              "        await google.colab.output.renderOutput(dataTable, element);\n",
              "        const docLink = document.createElement('div');\n",
              "        docLink.innerHTML = docLinkHtml;\n",
              "        element.appendChild(docLink);\n",
              "      }\n",
              "    </script>\n",
              "  </div>\n",
              "\n",
              "\n",
              "<div id=\"df-939ba91e-156f-4496-a7a9-9218d9f461be\">\n",
              "  <button class=\"colab-df-quickchart\" onclick=\"quickchart('df-939ba91e-156f-4496-a7a9-9218d9f461be')\"\n",
              "            title=\"Suggest charts.\"\n",
              "            style=\"display:none;\">\n",
              "\n",
              "<svg xmlns=\"http://www.w3.org/2000/svg\" height=\"24px\"viewBox=\"0 0 24 24\"\n",
              "     width=\"24px\">\n",
              "    <g>\n",
              "        <path d=\"M19 3H5c-1.1 0-2 .9-2 2v14c0 1.1.9 2 2 2h14c1.1 0 2-.9 2-2V5c0-1.1-.9-2-2-2zM9 17H7v-7h2v7zm4 0h-2V7h2v10zm4 0h-2v-4h2v4z\"/>\n",
              "    </g>\n",
              "</svg>\n",
              "  </button>\n",
              "\n",
              "<style>\n",
              "  .colab-df-quickchart {\n",
              "      --bg-color: #E8F0FE;\n",
              "      --fill-color: #1967D2;\n",
              "      --hover-bg-color: #E2EBFA;\n",
              "      --hover-fill-color: #174EA6;\n",
              "      --disabled-fill-color: #AAA;\n",
              "      --disabled-bg-color: #DDD;\n",
              "  }\n",
              "\n",
              "  [theme=dark] .colab-df-quickchart {\n",
              "      --bg-color: #3B4455;\n",
              "      --fill-color: #D2E3FC;\n",
              "      --hover-bg-color: #434B5C;\n",
              "      --hover-fill-color: #FFFFFF;\n",
              "      --disabled-bg-color: #3B4455;\n",
              "      --disabled-fill-color: #666;\n",
              "  }\n",
              "\n",
              "  .colab-df-quickchart {\n",
              "    background-color: var(--bg-color);\n",
              "    border: none;\n",
              "    border-radius: 50%;\n",
              "    cursor: pointer;\n",
              "    display: none;\n",
              "    fill: var(--fill-color);\n",
              "    height: 32px;\n",
              "    padding: 0;\n",
              "    width: 32px;\n",
              "  }\n",
              "\n",
              "  .colab-df-quickchart:hover {\n",
              "    background-color: var(--hover-bg-color);\n",
              "    box-shadow: 0 1px 2px rgba(60, 64, 67, 0.3), 0 1px 3px 1px rgba(60, 64, 67, 0.15);\n",
              "    fill: var(--button-hover-fill-color);\n",
              "  }\n",
              "\n",
              "  .colab-df-quickchart-complete:disabled,\n",
              "  .colab-df-quickchart-complete:disabled:hover {\n",
              "    background-color: var(--disabled-bg-color);\n",
              "    fill: var(--disabled-fill-color);\n",
              "    box-shadow: none;\n",
              "  }\n",
              "\n",
              "  .colab-df-spinner {\n",
              "    border: 2px solid var(--fill-color);\n",
              "    border-color: transparent;\n",
              "    border-bottom-color: var(--fill-color);\n",
              "    animation:\n",
              "      spin 1s steps(1) infinite;\n",
              "  }\n",
              "\n",
              "  @keyframes spin {\n",
              "    0% {\n",
              "      border-color: transparent;\n",
              "      border-bottom-color: var(--fill-color);\n",
              "      border-left-color: var(--fill-color);\n",
              "    }\n",
              "    20% {\n",
              "      border-color: transparent;\n",
              "      border-left-color: var(--fill-color);\n",
              "      border-top-color: var(--fill-color);\n",
              "    }\n",
              "    30% {\n",
              "      border-color: transparent;\n",
              "      border-left-color: var(--fill-color);\n",
              "      border-top-color: var(--fill-color);\n",
              "      border-right-color: var(--fill-color);\n",
              "    }\n",
              "    40% {\n",
              "      border-color: transparent;\n",
              "      border-right-color: var(--fill-color);\n",
              "      border-top-color: var(--fill-color);\n",
              "    }\n",
              "    60% {\n",
              "      border-color: transparent;\n",
              "      border-right-color: var(--fill-color);\n",
              "    }\n",
              "    80% {\n",
              "      border-color: transparent;\n",
              "      border-right-color: var(--fill-color);\n",
              "      border-bottom-color: var(--fill-color);\n",
              "    }\n",
              "    90% {\n",
              "      border-color: transparent;\n",
              "      border-bottom-color: var(--fill-color);\n",
              "    }\n",
              "  }\n",
              "</style>\n",
              "\n",
              "  <script>\n",
              "    async function quickchart(key) {\n",
              "      const quickchartButtonEl =\n",
              "        document.querySelector('#' + key + ' button');\n",
              "      quickchartButtonEl.disabled = true;  // To prevent multiple clicks.\n",
              "      quickchartButtonEl.classList.add('colab-df-spinner');\n",
              "      try {\n",
              "        const charts = await google.colab.kernel.invokeFunction(\n",
              "            'suggestCharts', [key], {});\n",
              "      } catch (error) {\n",
              "        console.error('Error during call to suggestCharts:', error);\n",
              "      }\n",
              "      quickchartButtonEl.classList.remove('colab-df-spinner');\n",
              "      quickchartButtonEl.classList.add('colab-df-quickchart-complete');\n",
              "    }\n",
              "    (() => {\n",
              "      let quickchartButtonEl =\n",
              "        document.querySelector('#df-939ba91e-156f-4496-a7a9-9218d9f461be button');\n",
              "      quickchartButtonEl.style.display =\n",
              "        google.colab.kernel.accessAllowed ? 'block' : 'none';\n",
              "    })();\n",
              "  </script>\n",
              "</div>\n",
              "    </div>\n",
              "  </div>\n"
            ]
          },
          "metadata": {},
          "execution_count": 29
        }
      ]
    },
    {
      "cell_type": "markdown",
      "source": [
        "**Observations of statistical summary - categorical variables**\n",
        "\n",
        "\n",
        "\n",
        "*   There are 2 unique values in the group, landing_page and converted columns. There are 3 unique values in the language_preferred column.\n",
        "*   The top value in the group is 'control' and it occurs 50 times.\n",
        "*   More than 50% of users have converted as subscribers of the E-News express.\n",
        "*   The top preferred language of the users is Spanish and it occurs 34 times in the dataset.\n",
        "\n",
        "\n",
        "\n"
      ],
      "metadata": {
        "id": "e-YgguStiBN6"
      },
      "id": "e-YgguStiBN6"
    },
    {
      "cell_type": "markdown",
      "source": [
        "### Missing value check"
      ],
      "metadata": {
        "id": "Us8ehm37jrF7"
      },
      "id": "Us8ehm37jrF7"
    },
    {
      "cell_type": "code",
      "source": [
        "# Checking the missing value in the dataset\n",
        "df.isnull().sum()"
      ],
      "metadata": {
        "colab": {
          "base_uri": "https://localhost:8080/"
        },
        "id": "92a2hcXTjpxQ",
        "outputId": "b5eba736-4b10-441c-bf9a-dc9eec002a6d"
      },
      "id": "92a2hcXTjpxQ",
      "execution_count": null,
      "outputs": [
        {
          "output_type": "execute_result",
          "data": {
            "text/plain": [
              "user_id                   0\n",
              "group                     0\n",
              "landing_page              0\n",
              "time_spent_on_the_page    0\n",
              "converted                 0\n",
              "language_preferred        0\n",
              "dtype: int64"
            ]
          },
          "metadata": {},
          "execution_count": 30
        }
      ]
    },
    {
      "cell_type": "markdown",
      "source": [
        "There are no missing values in the abtest dataset."
      ],
      "metadata": {
        "id": "KsRDcSFikKOk"
      },
      "id": "KsRDcSFikKOk"
    },
    {
      "cell_type": "markdown",
      "source": [
        "### Check duplicate values"
      ],
      "metadata": {
        "id": "3dRfU2emlAC2"
      },
      "id": "3dRfU2emlAC2"
    },
    {
      "cell_type": "code",
      "source": [
        "# check for duplicate values in the dataset\n",
        "dup = df.duplicated()\n",
        "print(df[dup])"
      ],
      "metadata": {
        "colab": {
          "base_uri": "https://localhost:8080/"
        },
        "id": "NrPj1-3BlETK",
        "outputId": "721e7953-a4f8-4b89-fde5-9c999152e65d"
      },
      "id": "NrPj1-3BlETK",
      "execution_count": null,
      "outputs": [
        {
          "output_type": "stream",
          "name": "stdout",
          "text": [
            "Empty DataFrame\n",
            "Columns: [user_id, group, landing_page, time_spent_on_the_page, converted, language_preferred]\n",
            "Index: []\n"
          ]
        }
      ]
    },
    {
      "cell_type": "markdown",
      "source": [
        "There are no duplicate values in the dataset."
      ],
      "metadata": {
        "id": "GZ6ccbVLlZeO"
      },
      "id": "GZ6ccbVLlZeO"
    },
    {
      "cell_type": "markdown",
      "metadata": {
        "id": "68f3b2c9"
      },
      "source": [
        "## Univariate Analysis"
      ],
      "id": "68f3b2c9"
    },
    {
      "cell_type": "markdown",
      "source": [
        "### **Time spent on the page**"
      ],
      "metadata": {
        "id": "38I0DF3tl1zW"
      },
      "id": "38I0DF3tl1zW"
    },
    {
      "cell_type": "code",
      "metadata": {
        "id": "1932d0f3",
        "colab": {
          "base_uri": "https://localhost:8080/",
          "height": 883
        },
        "outputId": "8da6ffed-ffbc-4651-a56b-ed78e736901b"
      },
      "source": [
        "# Visualise the time_spent_on_the_page using histogram\n",
        "sns.histplot(data=df,x='time_spent_on_the_page',kde=True)\n",
        "plt.show()\n",
        "# Visualise the time_spent_on_the_page using boxplot\n",
        "sns.boxplot(data=df,x='time_spent_on_the_page')\n",
        "plt.show()"
      ],
      "id": "1932d0f3",
      "execution_count": null,
      "outputs": [
        {
          "output_type": "display_data",
          "data": {
            "text/plain": [
              "<Figure size 640x480 with 1 Axes>"
            ],
            "image/png": "[encoded data removed]"
          },
          "metadata": {}
        },
        {
          "output_type": "display_data",
          "data": {
            "text/plain": [
              "<Figure size 640x480 with 1 Axes>"
            ],
            "image/png": "[encoded data removed]"
          },
          "metadata": {}
        }
      ]
    },
    {
      "cell_type": "markdown",
      "source": [
        "###Observations\n",
        "\n",
        "\n",
        "*   The time spent on the page is normally distributed with a minimum of 0.19 seconds and a maximum time of around 10 minutes.\n",
        "*   The mean and the median time spent is almost same and it is around 5 minutes which gives an idea that 50% of users have spent atleast 5 minutes.\n",
        "*   There are no outliers in the distribution."
      ],
      "metadata": {
        "id": "Xa-7tlHbmX6l"
      },
      "id": "Xa-7tlHbmX6l"
    },
    {
      "cell_type": "markdown",
      "source": [
        "### **Landing Page**"
      ],
      "metadata": {
        "id": "Krla2iPnoIIa"
      },
      "id": "Krla2iPnoIIa"
    },
    {
      "cell_type": "markdown",
      "source": [
        "### Check unique values and count"
      ],
      "metadata": {
        "id": "9tKjqwQNol6i"
      },
      "id": "9tKjqwQNol6i"
    },
    {
      "cell_type": "code",
      "source": [
        "# check the unique value\n",
        "df['landing_page'].unique()"
      ],
      "metadata": {
        "colab": {
          "base_uri": "https://localhost:8080/"
        },
        "id": "n_SW0a7OpB0t",
        "outputId": "610b77bf-6c0e-44f1-bd02-70b9b71842bb"
      },
      "id": "n_SW0a7OpB0t",
      "execution_count": null,
      "outputs": [
        {
          "output_type": "execute_result",
          "data": {
            "text/plain": [
              "array(['old', 'new'], dtype=object)"
            ]
          },
          "metadata": {},
          "execution_count": 33
        }
      ]
    },
    {
      "cell_type": "markdown",
      "source": [
        "There are two values (old, new) in landing page"
      ],
      "metadata": {
        "id": "Cu8yZ2S2pSa7"
      },
      "id": "Cu8yZ2S2pSa7"
    },
    {
      "cell_type": "code",
      "source": [
        "# check the number of values\n",
        "df['landing_page'].value_counts()"
      ],
      "metadata": {
        "colab": {
          "base_uri": "https://localhost:8080/"
        },
        "id": "5yooyK-jovBp",
        "outputId": "a6a36713-ceb1-4b2f-af8f-02e736c641d8"
      },
      "id": "5yooyK-jovBp",
      "execution_count": null,
      "outputs": [
        {
          "output_type": "execute_result",
          "data": {
            "text/plain": [
              "old    50\n",
              "new    50\n",
              "Name: landing_page, dtype: int64"
            ]
          },
          "metadata": {},
          "execution_count": 34
        }
      ]
    },
    {
      "cell_type": "markdown",
      "source": [
        "Both 'old' and 'new' value have 50 counts each which is in alignment with the problem statement describing the groups are split equally to test for the new and the old page."
      ],
      "metadata": {
        "id": "sTdUqkm2pcOd"
      },
      "id": "sTdUqkm2pcOd"
    },
    {
      "cell_type": "code",
      "source": [
        "# Visualize the landing_page variable using bargraph\n",
        "plt.figure(figsize=(5,5))\n",
        "sns.countplot(data=df,x= 'landing_page')\n",
        "plt.show()"
      ],
      "metadata": {
        "colab": {
          "base_uri": "https://localhost:8080/",
          "height": 465
        },
        "id": "AQ0LZ9iOoNKF",
        "outputId": "75e9e3fc-186d-4e0e-9a4f-01188ca3a19b"
      },
      "id": "AQ0LZ9iOoNKF",
      "execution_count": null,
      "outputs": [
        {
          "output_type": "display_data",
          "data": {
            "text/plain": [
              "<Figure size 500x500 with 1 Axes>"
            ],
            "image/png": "[encoded data removed]"
          },
          "metadata": {}
        }
      ]
    },
    {
      "cell_type": "markdown",
      "source": [
        "### Observations\n",
        "\n",
        "\n",
        "*   Both the new and the old page have 50 counts each which infers that the users are split equally to test the efficiency of the pages.\n",
        "\n",
        "\n",
        "\n",
        "\n"
      ],
      "metadata": {
        "id": "e1RfLzYMqRK_"
      },
      "id": "e1RfLzYMqRK_"
    },
    {
      "cell_type": "markdown",
      "source": [
        "### **Group**"
      ],
      "metadata": {
        "id": "g6x0p0-drGYF"
      },
      "id": "g6x0p0-drGYF"
    },
    {
      "cell_type": "markdown",
      "source": [
        "### Check unique values and count"
      ],
      "metadata": {
        "id": "kwaUZHrWrKGZ"
      },
      "id": "kwaUZHrWrKGZ"
    },
    {
      "cell_type": "code",
      "source": [
        "# check unique values in the group\n",
        "df['group'].unique()"
      ],
      "metadata": {
        "colab": {
          "base_uri": "https://localhost:8080/"
        },
        "id": "GqVOT-tnrcFe",
        "outputId": "5d9eb27e-6915-4630-dae4-6963defd219a"
      },
      "id": "GqVOT-tnrcFe",
      "execution_count": null,
      "outputs": [
        {
          "output_type": "execute_result",
          "data": {
            "text/plain": [
              "array(['control', 'treatment'], dtype=object)"
            ]
          },
          "metadata": {},
          "execution_count": 36
        }
      ]
    },
    {
      "cell_type": "markdown",
      "source": [
        "There are two groups control and treatment."
      ],
      "metadata": {
        "id": "W1Uv-dt7rkcH"
      },
      "id": "W1Uv-dt7rkcH"
    },
    {
      "cell_type": "code",
      "source": [
        "# check the number of value\n",
        "df['group'].value_counts()"
      ],
      "metadata": {
        "colab": {
          "base_uri": "https://localhost:8080/"
        },
        "id": "IdfFWxMlrwMA",
        "outputId": "71aff39d-8803-4403-fc02-b16b0b0243cd"
      },
      "id": "IdfFWxMlrwMA",
      "execution_count": null,
      "outputs": [
        {
          "output_type": "execute_result",
          "data": {
            "text/plain": [
              "control      50\n",
              "treatment    50\n",
              "Name: group, dtype: int64"
            ]
          },
          "metadata": {},
          "execution_count": 37
        }
      ]
    },
    {
      "cell_type": "markdown",
      "source": [
        "The control and treatment groups each have 50 counts"
      ],
      "metadata": {
        "id": "vSEuKkBir8i-"
      },
      "id": "vSEuKkBir8i-"
    },
    {
      "cell_type": "code",
      "source": [
        "# Visualize the group variable using bargraph\n",
        "plt.figure(figsize=(5,5))\n",
        "sns.countplot(data=df,x= 'group')\n",
        "plt.show()"
      ],
      "metadata": {
        "colab": {
          "base_uri": "https://localhost:8080/",
          "height": 465
        },
        "id": "_zUrRBADsM-s",
        "outputId": "73320f45-d2c1-4e11-da57-46937f499fb7"
      },
      "id": "_zUrRBADsM-s",
      "execution_count": null,
      "outputs": [
        {
          "output_type": "display_data",
          "data": {
            "text/plain": [
              "<Figure size 500x500 with 1 Axes>"
            ],
            "image/png": "[encoded data removed]"
          },
          "metadata": {}
        }
      ]
    },
    {
      "cell_type": "markdown",
      "source": [
        "###Observations\n",
        "\n",
        "\n",
        "*   The users are equally split among control and treatment group.\n",
        "\n"
      ],
      "metadata": {
        "id": "weliHJeosnzm"
      },
      "id": "weliHJeosnzm"
    },
    {
      "cell_type": "markdown",
      "source": [
        "### **Converted**"
      ],
      "metadata": {
        "id": "I-mjJV2ds7OW"
      },
      "id": "I-mjJV2ds7OW"
    },
    {
      "cell_type": "markdown",
      "source": [
        "### Check unique values and count"
      ],
      "metadata": {
        "id": "CSO1IhzJtBTT"
      },
      "id": "CSO1IhzJtBTT"
    },
    {
      "cell_type": "code",
      "source": [
        "# check unique value of the 'converted' variable\n",
        "df['converted'].unique()"
      ],
      "metadata": {
        "colab": {
          "base_uri": "https://localhost:8080/"
        },
        "id": "u2A7kdZitIsk",
        "outputId": "688174f6-2374-4220-e61b-c8fcb620a8e4"
      },
      "id": "u2A7kdZitIsk",
      "execution_count": null,
      "outputs": [
        {
          "output_type": "execute_result",
          "data": {
            "text/plain": [
              "array(['no', 'yes'], dtype=object)"
            ]
          },
          "metadata": {},
          "execution_count": 39
        }
      ]
    },
    {
      "cell_type": "markdown",
      "source": [
        "There are two unique values (yes, no) in the converted column."
      ],
      "metadata": {
        "id": "mVO5O6xttUVY"
      },
      "id": "mVO5O6xttUVY"
    },
    {
      "cell_type": "code",
      "source": [
        "# check the counts of the unique values\n",
        "df['converted'].value_counts()"
      ],
      "metadata": {
        "colab": {
          "base_uri": "https://localhost:8080/"
        },
        "id": "AiK5y1qIte6j",
        "outputId": "781a2e45-eebb-457c-9c42-e826bb8e568c"
      },
      "id": "AiK5y1qIte6j",
      "execution_count": null,
      "outputs": [
        {
          "output_type": "execute_result",
          "data": {
            "text/plain": [
              "yes    54\n",
              "no     46\n",
              "Name: converted, dtype: int64"
            ]
          },
          "metadata": {},
          "execution_count": 40
        }
      ]
    },
    {
      "cell_type": "code",
      "source": [
        "# Visualize the 'Converted' variable using bargraph\n",
        "plt.figure(figsize=(5,5))\n",
        "sns.countplot(data=df,x= 'converted')\n",
        "plt.show()"
      ],
      "metadata": {
        "colab": {
          "base_uri": "https://localhost:8080/",
          "height": 465
        },
        "id": "erPSX21HwR2p",
        "outputId": "be0d3fc1-2729-45c7-b978-cfd194d48901"
      },
      "id": "erPSX21HwR2p",
      "execution_count": null,
      "outputs": [
        {
          "output_type": "display_data",
          "data": {
            "text/plain": [
              "<Figure size 500x500 with 1 Axes>"
            ],
            "image/png": "[encoded data removed]"
          },
          "metadata": {}
        }
      ]
    },
    {
      "cell_type": "markdown",
      "source": [
        "### Observations\n",
        "\n",
        "\n",
        "\n",
        "*   54 users have converted as subscribers of the E-news express.\n",
        "\n",
        "\n",
        "*   46 users have not converted as subscribers.\n",
        "\n",
        "\n",
        "\n"
      ],
      "metadata": {
        "id": "vm2Um2c5wgt0"
      },
      "id": "vm2Um2c5wgt0"
    },
    {
      "cell_type": "markdown",
      "source": [
        "### **Language Preferred**"
      ],
      "metadata": {
        "id": "l0vUB2lmulPQ"
      },
      "id": "l0vUB2lmulPQ"
    },
    {
      "cell_type": "markdown",
      "source": [
        "### Check unique values and count"
      ],
      "metadata": {
        "id": "0ffxHbP0uuL6"
      },
      "id": "0ffxHbP0uuL6"
    },
    {
      "cell_type": "markdown",
      "source": [],
      "metadata": {
        "id": "3LAZ0-towDWu"
      },
      "id": "3LAZ0-towDWu"
    },
    {
      "cell_type": "code",
      "source": [
        "# check the unique value\n",
        "df['language_preferred'].unique()"
      ],
      "metadata": {
        "colab": {
          "base_uri": "https://localhost:8080/"
        },
        "id": "ZMPmPc8Pu0sr",
        "outputId": "60f6a144-2cc9-4546-c3cd-c3108a7f00ca"
      },
      "id": "ZMPmPc8Pu0sr",
      "execution_count": null,
      "outputs": [
        {
          "output_type": "execute_result",
          "data": {
            "text/plain": [
              "array(['Spanish', 'English', 'French'], dtype=object)"
            ]
          },
          "metadata": {},
          "execution_count": 41
        }
      ]
    },
    {
      "cell_type": "markdown",
      "source": [
        "There are three preferred languages of the user : Spanish, English and French."
      ],
      "metadata": {
        "id": "rgWfa0dEu92m"
      },
      "id": "rgWfa0dEu92m"
    },
    {
      "cell_type": "code",
      "source": [
        "# check the count of the unique values\n",
        "df['language_preferred'].value_counts()"
      ],
      "metadata": {
        "colab": {
          "base_uri": "https://localhost:8080/"
        },
        "id": "HO_IBgapvR_F",
        "outputId": "f93ea186-2f1e-4b5e-a208-f541143b47bd"
      },
      "id": "HO_IBgapvR_F",
      "execution_count": null,
      "outputs": [
        {
          "output_type": "execute_result",
          "data": {
            "text/plain": [
              "Spanish    34\n",
              "French     34\n",
              "English    32\n",
              "Name: language_preferred, dtype: int64"
            ]
          },
          "metadata": {},
          "execution_count": 42
        }
      ]
    },
    {
      "cell_type": "code",
      "source": [
        "# Visualize the 'language_preferred' using bargraph\n",
        "plt.figure(figsize=(5,5))\n",
        "sns.countplot(data=df,x= 'language_preferred')\n",
        "plt.show()"
      ],
      "metadata": {
        "colab": {
          "base_uri": "https://localhost:8080/",
          "height": 465
        },
        "id": "JlJULNpYxi0p",
        "outputId": "f92a4048-cf81-4e97-c198-a9c149eeb72d"
      },
      "id": "JlJULNpYxi0p",
      "execution_count": null,
      "outputs": [
        {
          "output_type": "display_data",
          "data": {
            "text/plain": [
              "<Figure size 500x500 with 1 Axes>"
            ],
            "image/png": "[encoded data removed]"
          },
          "metadata": {}
        }
      ]
    },
    {
      "cell_type": "markdown",
      "source": [
        "### Observations\n",
        "\n",
        "\n",
        "*   Spanish is preferred by 34 users.\n",
        "*   French is preferred by 34 users.\n",
        "*   English is preferred by 32 users.\n",
        "\n",
        "\n",
        "\n",
        "\n"
      ],
      "metadata": {
        "id": "QK9GNm_5x1Zt"
      },
      "id": "QK9GNm_5x1Zt"
    },
    {
      "cell_type": "markdown",
      "metadata": {
        "id": "fad2de2f"
      },
      "source": [
        "## Bivariate Analysis"
      ],
      "id": "fad2de2f"
    },
    {
      "cell_type": "markdown",
      "source": [
        "### **Landing page and the Time Spent on the page**"
      ],
      "metadata": {
        "id": "3Qw9DHQJR6um"
      },
      "id": "3Qw9DHQJR6um"
    },
    {
      "cell_type": "code",
      "metadata": {
        "id": "58e9a1d0",
        "colab": {
          "base_uri": "https://localhost:8080/",
          "height": 465
        },
        "outputId": "47aee4a4-248f-49f3-d9a6-352e981a5834"
      },
      "source": [
        "# Visualize the relationship berween Landing page and the time spent using box plot\n",
        "plt.figure(figsize=(8,5))\n",
        "sns.boxplot(data=df,x='landing_page',y='time_spent_on_the_page')\n",
        "plt.show()"
      ],
      "id": "58e9a1d0",
      "execution_count": null,
      "outputs": [
        {
          "output_type": "display_data",
          "data": {
            "text/plain": [
              "<Figure size 800x500 with 1 Axes>"
            ],
            "image/png": "[encoded data removed]"
          },
          "metadata": {}
        }
      ]
    },
    {
      "cell_type": "markdown",
      "source": [
        "### Observations\n",
        "\n",
        "\n",
        "*   The minimum time spent on the old page is around to 19 seconds which is very less compared to the new page.\n",
        "*   The users of the new page have spent atleast a minimum of 1.5 minutes.\n",
        "*   There are some outliers on both the sides of distribution on the time spent in the new page.\n",
        "*   75% of users of the new page have spent less than 7 minutes on the page.\n",
        "\n",
        "\n",
        "\n",
        "\n"
      ],
      "metadata": {
        "id": "F2i3sA8iUMru"
      },
      "id": "F2i3sA8iUMru"
    },
    {
      "cell_type": "markdown",
      "source": [
        "### **Language Preferred and the Time spent on the page**\n",
        "\n",
        "\n"
      ],
      "metadata": {
        "id": "4_k9XhDWWK7L"
      },
      "id": "4_k9XhDWWK7L"
    },
    {
      "cell_type": "code",
      "source": [
        "# Visualize the relationship between the language preferred and the time spent\n",
        "plt.figure(figsize=(8,5))\n",
        "sns.boxplot(data=df,x='language_preferred',y='time_spent_on_the_page')\n",
        "plt.show()"
      ],
      "metadata": {
        "colab": {
          "base_uri": "https://localhost:8080/",
          "height": 465
        },
        "id": "swsWN5jkWYVu",
        "outputId": "70840655-8162-4adf-9887-621fe100cfd9"
      },
      "id": "swsWN5jkWYVu",
      "execution_count": null,
      "outputs": [
        {
          "output_type": "display_data",
          "data": {
            "text/plain": [
              "<Figure size 800x500 with 1 Axes>"
            ],
            "image/png": "[encoded data removed]"
          },
          "metadata": {}
        }
      ]
    },
    {
      "cell_type": "markdown",
      "source": [
        "### Observations\n",
        "\n",
        "\n",
        "*   There are three languages (Spanish, English and French) preferred by the users of E-News express.\n",
        "*   The median time spent by the users who chose English and Spanish are close to around 5.7 minutes whereas the median time spent by the users who chose French to view the landing page is close to 5 minutes.\n",
        "*   The maximum time spent by the users who chose English and French is around 10.7 minutes which is more compared to the maximum time spent by users who chose French language which is around 8.7 minutes.\n",
        "*   There is an outlier in the time spent on the distribution of Spanish language.\n",
        "\n"
      ],
      "metadata": {
        "id": "QpbtxirkW_V7"
      },
      "id": "QpbtxirkW_V7"
    },
    {
      "cell_type": "markdown",
      "source": [
        "### **Conversion Status and Time Spent on the page**"
      ],
      "metadata": {
        "id": "fEqRsOTha2b6"
      },
      "id": "fEqRsOTha2b6"
    },
    {
      "cell_type": "code",
      "source": [
        "# Visualize the relationship between the Conversion status and the time spent on the page\n",
        "plt.figure(figsize=(8,5))\n",
        "sns.boxplot(data=df,x='converted',y='time_spent_on_the_page')\n",
        "plt.show()"
      ],
      "metadata": {
        "colab": {
          "base_uri": "https://localhost:8080/",
          "height": 465
        },
        "id": "aBmi4rr5a-mY",
        "outputId": "41822c33-4822-4f18-9227-28fe10eda118"
      },
      "id": "aBmi4rr5a-mY",
      "execution_count": null,
      "outputs": [
        {
          "output_type": "display_data",
          "data": {
            "text/plain": [
              "<Figure size 800x500 with 1 Axes>"
            ],
            "image/png": "[encoded data removed]"
          },
          "metadata": {}
        }
      ]
    },
    {
      "cell_type": "markdown",
      "source": [
        "### Observations\n",
        "\n",
        "\n",
        "*   The users who did not subscribe to the E-News express have spent a minimum of 19 seconds which is very less compared to the users who became subscribers and spent atleast a mimimum time of 2.8 minutes on the page.\n",
        "*   The median time spent by the users who became subscribers is around 7 minutes which is more compared to the median time of 4 minutes spent by users who did not subcribe.\n",
        "*   The maximum time spent by the users who subscribed to the E-News express is more compared to the users who did not subscribe.\n",
        "*   There are some outliers on both sides of the distribution of the converted status 'Yes' (users who subscribed).\n",
        "\n",
        "\n",
        "\n",
        "\n",
        "\n"
      ],
      "metadata": {
        "id": "0Myqyvp4bZDo"
      },
      "id": "0Myqyvp4bZDo"
    },
    {
      "cell_type": "markdown",
      "metadata": {
        "id": "27906576"
      },
      "source": [
        "## 1. Do the users spend more time on the new landing page than the existing landing page?"
      ],
      "id": "27906576"
    },
    {
      "cell_type": "markdown",
      "metadata": {
        "id": "e5fdf0c8"
      },
      "source": [
        "### Perform Visual Analysis"
      ],
      "id": "e5fdf0c8"
    },
    {
      "cell_type": "markdown",
      "source": [
        "Boxplot is used here to Visualize the relationship between the time spent by the users on the new and old landing page"
      ],
      "metadata": {
        "id": "RTovAa4qr2Ra"
      },
      "id": "RTovAa4qr2Ra"
    },
    {
      "cell_type": "code",
      "metadata": {
        "id": "6eZJa41eg21n",
        "colab": {
          "base_uri": "https://localhost:8080/",
          "height": 465
        },
        "outputId": "280eecc3-03f7-4fa3-e1f6-887f7c20a257"
      },
      "source": [
        "# Visualize the relationship berween Landing page and the time spent using box plot\n",
        "plt.figure(figsize=(8,5))\n",
        "sns.boxplot(data=df,x='landing_page',y='time_spent_on_the_page')\n",
        "plt.show()"
      ],
      "id": "6eZJa41eg21n",
      "execution_count": null,
      "outputs": [
        {
          "output_type": "display_data",
          "data": {
            "text/plain": [
              "<Figure size 800x500 with 1 Axes>"
            ],
            "image/png": "[encoded data removed]"
          },
          "metadata": {}
        }
      ]
    },
    {
      "cell_type": "markdown",
      "source": [
        "### **Observations**\n",
        "From the above visualization on the relationship between the landing page and the time spent on the page we get the following observations.\n",
        "\n",
        "*   The minimum time spent on the old page is around 19 seconds which is very less compared to the new page.\n",
        "*   The users of the new page have spent atleast a minimum of 1.5 minutes.\n",
        "*   There are some outliers on both the sides of distribution of the new landing page.\n",
        "*   75% of users of the new page have spent less than 7 minutes on the page.\n",
        "\n",
        "The summary gives a wholesome idea that the time spent by the users on the new landing page is more compared to the old landing page. This statement/claim can be tested using the following statistical test."
      ],
      "metadata": {
        "id": "BS6oNZy7salS"
      },
      "id": "BS6oNZy7salS"
    },
    {
      "cell_type": "markdown",
      "metadata": {
        "id": "56b3dafd"
      },
      "source": [
        "### Step 1: Define the null and alternate hypotheses"
      ],
      "id": "56b3dafd"
    },
    {
      "cell_type": "markdown",
      "metadata": {
        "id": "d2ac77ef"
      },
      "source": [
        "\n",
        "Let $\\mu_1$ be the mean time spent by the user on the new landing page.\n",
        "\n",
        "Let $\\mu_2$ be the mean time spent by the user on the existing landing page.\n",
        "\n",
        "Based on the above definition the null hypothesis is:\n",
        "\n",
        ">$H_0:\\mu_1=\\mu_2$\n",
        "\n",
        "the alternate hypothesis is\n",
        "\n",
        ">$H_a:\\mu_1>\\mu_2$"
      ],
      "id": "d2ac77ef"
    },
    {
      "cell_type": "markdown",
      "metadata": {
        "id": "c7ee4907"
      },
      "source": [
        "### Step 2: Select Appropriate test"
      ],
      "id": "c7ee4907"
    },
    {
      "cell_type": "markdown",
      "metadata": {
        "id": "2c183cd7"
      },
      "source": [
        "The question states about two independent population ie., users of the new landing page and the users of the existing landing page. The test we are going to perform is a one tailed test as we are testing whether the time spent by the user on the new landing page is greater than the time spent by the user on the existing landing page. The population standard deviation is unknown. Hence the test to perform for the formulated hypothesis is **Two independent sample t-test.**\n",
        "\n",
        "\n"
      ],
      "id": "2c183cd7"
    },
    {
      "cell_type": "markdown",
      "metadata": {
        "id": "3f58c9a7"
      },
      "source": [
        "### Step 3: Decide the significance level"
      ],
      "id": "3f58c9a7"
    },
    {
      "cell_type": "markdown",
      "metadata": {
        "id": "92d7d7ee"
      },
      "source": [
        "As per the problem statement the level of significance $\\alpha = 0.05$"
      ],
      "id": "92d7d7ee"
    },
    {
      "cell_type": "markdown",
      "metadata": {
        "id": "5fed2eac"
      },
      "source": [
        "### Step 4: Collect and prepare data"
      ],
      "id": "5fed2eac"
    },
    {
      "cell_type": "markdown",
      "source": [
        "Lets collect the necessary data required for the Two sample t-test. Also lets evaluate if the sample standard deviation of the time spent on the page of the two populations are same."
      ],
      "metadata": {
        "id": "TVIHHTY30xSE"
      },
      "id": "TVIHHTY30xSE"
    },
    {
      "cell_type": "code",
      "metadata": {
        "id": "f5a59495",
        "colab": {
          "base_uri": "https://localhost:8080/"
        },
        "outputId": "c4f405f5-4429-4d16-dce3-b298a18040bf"
      },
      "source": [
        "# creating a dataframe with the time spent on the new landing page\n",
        "timespent_n = df[df['landing_page']=='new']['time_spent_on_the_page']\n",
        "#creating a dataframe with the time spent on the existing landing page\n",
        "timespent_o = df[df['landing_page']=='old']['time_spent_on_the_page']\n",
        "# calculate the sample standard deviation of the time spent on the new page\n",
        "sd_n = round(timespent_n.std(),2)\n",
        "sd_o = round(timespent_o.std(),2)\n",
        "print(\" The sample standard deviation of the time spent on the new page is\", sd_n)\n",
        "print(\" The sample standard deviation of the time spent on the new page is\", sd_o)"
      ],
      "id": "f5a59495",
      "execution_count": 11,
      "outputs": [
        {
          "output_type": "stream",
          "name": "stdout",
          "text": [
            " The sample standard deviation of the time spent on the new page is 1.82\n",
            " The sample standard deviation of the time spent on the new page is 2.58\n"
          ]
        }
      ]
    },
    {
      "cell_type": "markdown",
      "source": [
        "Since the sample standard deviation of the two population are different we are going to perform the **Two sample independent t-test with unequal standard deviation**."
      ],
      "metadata": {
        "id": "f1uyCW8W3MMN"
      },
      "id": "f1uyCW8W3MMN"
    },
    {
      "cell_type": "markdown",
      "metadata": {
        "id": "f5c5258d"
      },
      "source": [
        "### Step 5: Calculate the p-value"
      ],
      "id": "f5c5258d"
    },
    {
      "cell_type": "markdown",
      "source": [
        "The ttest_ind() function in scipy is used to perform the two sample independent t-test.\n",
        "\n",
        "The `ttest_ind()` function takes the sample observations, the variance value set as True or False and the direction of the alternative hypothesis as input and returns the test statistic and the p-value for the test.\n",
        "\n",
        "1. The sample observations are the values of time spent by the user on the new landing page and the old landing page.\n",
        "2. The variance equality factor is set to False since the sample standard deviation of the two population are different.\n",
        "3. As it is a one-tailed test towards the right, we will set the argument `alternative = 'greater'`"
      ],
      "metadata": {
        "id": "J6Q5lVCR4WNP"
      },
      "id": "J6Q5lVCR4WNP"
    },
    {
      "cell_type": "code",
      "metadata": {
        "id": "fac8594a",
        "colab": {
          "base_uri": "https://localhost:8080/"
        },
        "outputId": "3d0d3ffb-0d86-41cb-a4a6-6c8b603e2731"
      },
      "source": [
        "#import the required functions\n",
        "from scipy.stats import ttest_ind\n",
        "\n",
        "# find the p-value\n",
        "test_stat, p_value = ttest_ind(timespent_n, timespent_o, equal_var = False, alternative = 'greater')\n",
        "print('The p-value is ', p_value)"
      ],
      "id": "fac8594a",
      "execution_count": 5,
      "outputs": [
        {
          "output_type": "stream",
          "name": "stdout",
          "text": [
            "The p-value is  0.0001392381225166549\n"
          ]
        }
      ]
    },
    {
      "cell_type": "markdown",
      "metadata": {
        "id": "359b12f8"
      },
      "source": [
        "### Step 6: Compare the p-value with $\\alpha$"
      ],
      "id": "359b12f8"
    },
    {
      "cell_type": "code",
      "metadata": {
        "id": "7be47289",
        "colab": {
          "base_uri": "https://localhost:8080/"
        },
        "outputId": "515a88fc-121d-40e4-c421-0818788d60a2"
      },
      "source": [
        "# Conclusion based on the computed p-value\n",
        "if p_value < 0.05:\n",
        "    print(f'As the p-value {p_value} is less than the level of significance, we reject the null hypothesis.')\n",
        "else:\n",
        "    print(f'As the p-value {p_value} is greater than the level of significance, we fail to reject the null hypothesis.')"
      ],
      "id": "7be47289",
      "execution_count": 12,
      "outputs": [
        {
          "output_type": "stream",
          "name": "stdout",
          "text": [
            "As the p-value 0.0001392381225166549 is less than the level of significance, we reject the null hypothesis.\n"
          ]
        }
      ]
    },
    {
      "cell_type": "markdown",
      "metadata": {
        "id": "d9affc84"
      },
      "source": [
        "### Step 7:  Draw inference"
      ],
      "id": "d9affc84"
    },
    {
      "cell_type": "markdown",
      "metadata": {
        "id": "6b16dd4b"
      },
      "source": [
        "Based on the above computed test on the formulated hypothesis we can conclude that the p-value is less than the level of significance(0.05).\n",
        "\n",
        "**Hence we reject the null hypothesis and have enough statistical evidence to show that the users spend more time on the new landing page than the existing landing page.**"
      ],
      "id": "6b16dd4b"
    },
    {
      "cell_type": "markdown",
      "metadata": {
        "id": "353e9d24"
      },
      "source": [
        "## 2. Is the conversion rate (the proportion of users who visit the landing page and get converted) for the new page greater than the conversion rate for the old page?"
      ],
      "id": "353e9d24"
    },
    {
      "cell_type": "markdown",
      "metadata": {
        "id": "S5qirNtMbbss"
      },
      "source": [
        "### Perform Visual Analysis"
      ],
      "id": "S5qirNtMbbss"
    },
    {
      "cell_type": "markdown",
      "source": [
        "Bargraph is used here to Visualize the proportion of conversion rate of the new landing page and the old landing page"
      ],
      "metadata": {
        "id": "7tdP_UtTbh-J"
      },
      "id": "7tdP_UtTbh-J"
    },
    {
      "cell_type": "code",
      "metadata": {
        "id": "b7f52898",
        "colab": {
          "base_uri": "https://localhost:8080/",
          "height": 542
        },
        "outputId": "b055fea4-7dea-4fdb-92d9-017f5751351f"
      },
      "source": [
        "#Visualize the conversion rate of the new landing page and old landing page\n",
        "plt.figure(figsize=(7,6))\n",
        "sns.countplot(data=df,x='landing_page',hue='converted')\n",
        "plt.show()"
      ],
      "id": "b7f52898",
      "execution_count": null,
      "outputs": [
        {
          "output_type": "display_data",
          "data": {
            "text/plain": [
              "<Figure size 700x600 with 1 Axes>"
            ],
            "image/png": "[encoded data removed]"
          },
          "metadata": {}
        }
      ]
    },
    {
      "cell_type": "markdown",
      "source": [
        "### **Observations**\n",
        "\n",
        "\n",
        "*   The number of users of the old landing page who have not converted as subscribers is more than the users who have become subscribers\n",
        "*   The number of users of the new landing page who have not converted as subscribers is less than the users who have become subscribers\n",
        "\n",
        "The graph gives us clear idea that the conversion rate of users of new landing is more compared to the old landing page. Let us confirm the observation from the above visualization using statistical test.\n",
        "\n",
        "\n",
        "\n",
        "\n"
      ],
      "metadata": {
        "id": "PLK3BWu0cP-F"
      },
      "id": "PLK3BWu0cP-F"
    },
    {
      "cell_type": "markdown",
      "metadata": {
        "id": "6Ngxi3ghdzqI"
      },
      "source": [
        "### Step 1: Define the null and alternate hypotheses"
      ],
      "id": "6Ngxi3ghdzqI"
    },
    {
      "cell_type": "markdown",
      "source": [
        "Let $p_1,p_2$ be the proportions of conversion rate of the new landing page and the old landing page.\n",
        "\n",
        "The null hypothesis is:\n",
        "\n",
        ">$H_0:p_1 =p_2$\n",
        "\n",
        "The alternate hypothesis is:\n",
        "\n",
        ">$H_a:p_1 >\\ p_2$"
      ],
      "metadata": {
        "id": "UQnUvWPnd1I1"
      },
      "id": "UQnUvWPnd1I1"
    },
    {
      "cell_type": "markdown",
      "metadata": {
        "id": "q5Fl8Apne9Ds"
      },
      "source": [
        "### Step 2: Select Appropriate test"
      ],
      "id": "q5Fl8Apne9Ds"
    },
    {
      "cell_type": "markdown",
      "metadata": {
        "id": "9Z12fgGPfDdR"
      },
      "source": [
        "The question states about two independent population ie., conversion rate of the new landing page and the conversion rate of the old landing page and we are considering the proportion of users who have converted. Hence the test we are going to perform is a one tailed test as we are testing whether the conversion rate of the new landing page is more than the conversion rate of the old landing page. Hence the test to perform for the formulated hypothesis is **Two proportion Z-test.**\n",
        "\n",
        "\n"
      ],
      "id": "9Z12fgGPfDdR"
    },
    {
      "cell_type": "markdown",
      "metadata": {
        "id": "IXlIGWacgWt5"
      },
      "source": [
        "### Step 3: Decide the significance level"
      ],
      "id": "IXlIGWacgWt5"
    },
    {
      "cell_type": "markdown",
      "source": [
        "As per the problem statement the level of significance $\\alpha = 0.05$"
      ],
      "metadata": {
        "id": "Aphk_yXVgXdl"
      },
      "id": "Aphk_yXVgXdl"
    },
    {
      "cell_type": "markdown",
      "metadata": {
        "id": "CM0VcxehhOWQ"
      },
      "source": [
        "### Step 4: Collect and prepare data"
      ],
      "id": "CM0VcxehhOWQ"
    },
    {
      "cell_type": "markdown",
      "source": [
        "Lets collect the necessary data required for the Two proportion Z-test. We require the data of the converted users of the new landing page and old landing page. Also the total users of the new landing page and the old landing page to perform the Two proportion Z-test"
      ],
      "metadata": {
        "id": "sOaX94cLhUbD"
      },
      "id": "sOaX94cLhUbD"
    },
    {
      "cell_type": "code",
      "source": [
        "# creating a subsetted dataframe with the users who converted\n",
        "convert_y = df[df['converted']=='yes']\n",
        "# calculate the number of users who have converted in the treatment group and the control group\n",
        "new_converted_count = len(convert_y[convert_y.group == 'treatment'])\n",
        "print(\"The number of users of the new landing page converted as subscribers is\",new_converted_count)\n",
        "old_converted_count = len(convert_y[convert_y.group == 'control'])\n",
        "print(\"The number of users of the old landing page converted as subscribers is\",old_converted_count)\n",
        "# calculate the total number of users in the treatment group and the control group\n",
        "new_total = df.group.value_counts()['treatment']\n",
        "print(\"The total number of users of the new landing page is\",new_total)\n",
        "old_total = df.group.value_counts()['control']\n",
        "print(\"The total number of users of the old landing page is\",old_total)"
      ],
      "metadata": {
        "colab": {
          "base_uri": "https://localhost:8080/"
        },
        "id": "HufIfP7ZhzIY",
        "outputId": "018ad897-7360-4b21-8c02-17b2afe82808"
      },
      "id": "HufIfP7ZhzIY",
      "execution_count": null,
      "outputs": [
        {
          "output_type": "stream",
          "name": "stdout",
          "text": [
            "The number of users of the new landing page converted as subscribers is 33\n",
            "The number of users of the old landing page converted as subscribers is 21\n",
            "The total number of users of the new landing page is 50\n",
            "The total number of users of the old landing page is 50\n"
          ]
        }
      ]
    },
    {
      "cell_type": "markdown",
      "metadata": {
        "id": "81TlVr39uFwK"
      },
      "source": [
        "### Step 5: Calculate the p-value"
      ],
      "id": "81TlVr39uFwK"
    },
    {
      "cell_type": "markdown",
      "source": [
        "The proportions_ztest() function in scipy is used to perform the two proportion Z-test.\n",
        "\n",
        "This function takes three arguments.\n",
        "\n",
        "1. The count of the users who have converted as subscribers of the new and the old landing page.\n",
        "2. The total number of users of the new and the old landing page.\n",
        "3. The alternative argument is set as 'larger' since its a one tailed test."
      ],
      "metadata": {
        "id": "Yt6u-8qsuJ-7"
      },
      "id": "Yt6u-8qsuJ-7"
    },
    {
      "cell_type": "code",
      "source": [
        "# import the required fuction\n",
        "from statsmodels.stats.proportion import proportions_ztest\n",
        "\n",
        "# find the p-value\n",
        "test_stat, p_value = proportions_ztest([new_converted_count,old_converted_count],[new_total,old_total], alternative = 'larger')\n",
        "print('The p-value is ' + str(p_value))"
      ],
      "metadata": {
        "colab": {
          "base_uri": "https://localhost:8080/"
        },
        "id": "KY1fJGZdugOi",
        "outputId": "3608fe3a-d8fe-41fa-875b-dc61529c4d70"
      },
      "id": "KY1fJGZdugOi",
      "execution_count": null,
      "outputs": [
        {
          "output_type": "stream",
          "name": "stdout",
          "text": [
            "The p-value is 0.008026308204056278\n"
          ]
        }
      ]
    },
    {
      "cell_type": "markdown",
      "metadata": {
        "id": "tofr4WKhvtFk"
      },
      "source": [
        "### Step 6: Compare the p-value with $\\alpha$"
      ],
      "id": "tofr4WKhvtFk"
    },
    {
      "cell_type": "code",
      "source": [
        "# Conclusion based on the computed p-value\n",
        "if p_value < 0.05:\n",
        "    print(f'As the p-value {p_value} is less than the level of significance, we reject the null hypothesis.')\n",
        "else:\n",
        "    print(f'As the p-value {p_value} is greater than the level of significance, we fail to reject the null hypothesis.')"
      ],
      "metadata": {
        "colab": {
          "base_uri": "https://localhost:8080/"
        },
        "id": "dUIBd9xMv3KU",
        "outputId": "9e56b935-2709-4c7f-cea4-f0da01795ecf"
      },
      "id": "dUIBd9xMv3KU",
      "execution_count": null,
      "outputs": [
        {
          "output_type": "stream",
          "name": "stdout",
          "text": [
            "As the p-value 0.008026308204056278 is less than the level of significance, we reject the null hypothesis.\n"
          ]
        }
      ]
    },
    {
      "cell_type": "markdown",
      "metadata": {
        "id": "z7Pn_vPWwA92"
      },
      "source": [
        "### Step 7:  Draw inference"
      ],
      "id": "z7Pn_vPWwA92"
    },
    {
      "cell_type": "markdown",
      "metadata": {
        "id": "kP2Fi8r1wD0U"
      },
      "source": [
        "Based on the above computed test on the formulated hypothesis we can conclude that the p-value is less than the level of significance(0.05).\n",
        "\n",
        "**Hence we reject the null hypothesis and have enough statistical evidence to show that the conversion rate of the users of new landing page is more than the old landing page.**"
      ],
      "id": "kP2Fi8r1wD0U"
    },
    {
      "cell_type": "markdown",
      "metadata": {
        "id": "d49bfa2d"
      },
      "source": [
        "## 3. Is the conversion and preferred language are independent or related?"
      ],
      "id": "d49bfa2d"
    },
    {
      "cell_type": "markdown",
      "metadata": {
        "id": "PLrgTGfPwgTW"
      },
      "source": [
        "### Perform Visual Analysis"
      ],
      "id": "PLrgTGfPwgTW"
    },
    {
      "cell_type": "markdown",
      "source": [
        "As per the question we need to find the dependency of two categorical variables, conversion and preferred language. Hence lets create a contingency table and then visualize the relationship between the variables using bargraph."
      ],
      "metadata": {
        "id": "G0CfrhgUwhXs"
      },
      "id": "G0CfrhgUwhXs"
    },
    {
      "cell_type": "code",
      "metadata": {
        "id": "b0e63f17",
        "colab": {
          "base_uri": "https://localhost:8080/",
          "height": 206
        },
        "outputId": "d0f79288-7950-4e0f-b4ff-22edb8840516"
      },
      "source": [
        "# creating a contingency table to tabulate the frequencies of the two categorical variables\n",
        "pd.crosstab(df.language_preferred,df.converted,margins=True)"
      ],
      "id": "b0e63f17",
      "execution_count": null,
      "outputs": [
        {
          "output_type": "execute_result",
          "data": {
            "text/plain": [
              "converted           no  yes  All\n",
              "language_preferred              \n",
              "English             11   21   32\n",
              "French              19   15   34\n",
              "Spanish             16   18   34\n",
              "All                 46   54  100"
            ],
            "text/html": [
              "\n",
              "  <div id=\"df-a197fc77-429a-4cf1-b36a-0127274506b0\" class=\"colab-df-container\">\n",
              "    <div>\n",
              "<style scoped>\n",
              "    .dataframe tbody tr th:only-of-type {\n",
              "        vertical-align: middle;\n",
              "    }\n",
              "\n",
              "    .dataframe tbody tr th {\n",
              "        vertical-align: top;\n",
              "    }\n",
              "\n",
              "    .dataframe thead th {\n",
              "        text-align: right;\n",
              "    }\n",
              "</style>\n",
              "<table border=\"1\" class=\"dataframe\">\n",
              "  <thead>\n",
              "    <tr style=\"text-align: right;\">\n",
              "      <th>converted</th>\n",
              "      <th>no</th>\n",
              "      <th>yes</th>\n",
              "      <th>All</th>\n",
              "    </tr>\n",
              "    <tr>\n",
              "      <th>language_preferred</th>\n",
              "      <th></th>\n",
              "      <th></th>\n",
              "      <th></th>\n",
              "    </tr>\n",
              "  </thead>\n",
              "  <tbody>\n",
              "    <tr>\n",
              "      <th>English</th>\n",
              "      <td>11</td>\n",
              "      <td>21</td>\n",
              "      <td>32</td>\n",
              "    </tr>\n",
              "    <tr>\n",
              "      <th>French</th>\n",
              "      <td>19</td>\n",
              "      <td>15</td>\n",
              "      <td>34</td>\n",
              "    </tr>\n",
              "    <tr>\n",
              "      <th>Spanish</th>\n",
              "      <td>16</td>\n",
              "      <td>18</td>\n",
              "      <td>34</td>\n",
              "    </tr>\n",
              "    <tr>\n",
              "      <th>All</th>\n",
              "      <td>46</td>\n",
              "      <td>54</td>\n",
              "      <td>100</td>\n",
              "    </tr>\n",
              "  </tbody>\n",
              "</table>\n",
              "</div>\n",
              "    <div class=\"colab-df-buttons\">\n",
              "\n",
              "  <div class=\"colab-df-container\">\n",
              "    <button class=\"colab-df-convert\" onclick=\"convertToInteractive('df-a197fc77-429a-4cf1-b36a-0127274506b0')\"\n",
              "            title=\"Convert this dataframe to an interactive table.\"\n",
              "            style=\"display:none;\">\n",
              "\n",
              "  <svg xmlns=\"http://www.w3.org/2000/svg\" height=\"24px\" viewBox=\"0 -960 960 960\">\n",
              "    <path d=\"M120-120v-720h720v720H120Zm60-500h600v-160H180v160Zm220 220h160v-160H400v160Zm0 220h160v-160H400v160ZM180-400h160v-160H180v160Zm440 0h160v-160H620v160ZM180-180h160v-160H180v160Zm440 0h160v-160H620v160Z\"/>\n",
              "  </svg>\n",
              "    </button>\n",
              "\n",
              "  <style>\n",
              "    .colab-df-container {\n",
              "      display:flex;\n",
              "      gap: 12px;\n",
              "    }\n",
              "\n",
              "    .colab-df-convert {\n",
              "      background-color: #E8F0FE;\n",
              "      border: none;\n",
              "      border-radius: 50%;\n",
              "      cursor: pointer;\n",
              "      display: none;\n",
              "      fill: #1967D2;\n",
              "      height: 32px;\n",
              "      padding: 0 0 0 0;\n",
              "      width: 32px;\n",
              "    }\n",
              "\n",
              "    .colab-df-convert:hover {\n",
              "      background-color: #E2EBFA;\n",
              "      box-shadow: 0px 1px 2px rgba(60, 64, 67, 0.3), 0px 1px 3px 1px rgba(60, 64, 67, 0.15);\n",
              "      fill: #174EA6;\n",
              "    }\n",
              "\n",
              "    .colab-df-buttons div {\n",
              "      margin-bottom: 4px;\n",
              "    }\n",
              "\n",
              "    [theme=dark] .colab-df-convert {\n",
              "      background-color: #3B4455;\n",
              "      fill: #D2E3FC;\n",
              "    }\n",
              "\n",
              "    [theme=dark] .colab-df-convert:hover {\n",
              "      background-color: #434B5C;\n",
              "      box-shadow: 0px 1px 3px 1px rgba(0, 0, 0, 0.15);\n",
              "      filter: drop-shadow(0px 1px 2px rgba(0, 0, 0, 0.3));\n",
              "      fill: #FFFFFF;\n",
              "    }\n",
              "  </style>\n",
              "\n",
              "    <script>\n",
              "      const buttonEl =\n",
              "        document.querySelector('#df-a197fc77-429a-4cf1-b36a-0127274506b0 button.colab-df-convert');\n",
              "      buttonEl.style.display =\n",
              "        google.colab.kernel.accessAllowed ? 'block' : 'none';\n",
              "\n",
              "      async function convertToInteractive(key) {\n",
              "        const element = document.querySelector('#df-a197fc77-429a-4cf1-b36a-0127274506b0');\n",
              "        const dataTable =\n",
              "          await google.colab.kernel.invokeFunction('convertToInteractive',\n",
              "                                                    [key], {});\n",
              "        if (!dataTable) return;\n",
              "\n",
              "        const docLinkHtml = 'Like what you see? Visit the ' +\n",
              "          '<a target=\"_blank\" href=https://colab.research.google.com/notebooks/data_table.ipynb>data table notebook</a>'\n",
              "          + ' to learn more about interactive tables.';\n",
              "        element.innerHTML = '';\n",
              "        dataTable['output_type'] = 'display_data';\n",
              "        await google.colab.output.renderOutput(dataTable, element);\n",
              "        const docLink = document.createElement('div');\n",
              "        docLink.innerHTML = docLinkHtml;\n",
              "        element.appendChild(docLink);\n",
              "      }\n",
              "    </script>\n",
              "  </div>\n",
              "\n",
              "\n",
              "<div id=\"df-49389c80-94aa-4743-a8cd-7753581ae936\">\n",
              "  <button class=\"colab-df-quickchart\" onclick=\"quickchart('df-49389c80-94aa-4743-a8cd-7753581ae936')\"\n",
              "            title=\"Suggest charts.\"\n",
              "            style=\"display:none;\">\n",
              "\n",
              "<svg xmlns=\"http://www.w3.org/2000/svg\" height=\"24px\"viewBox=\"0 0 24 24\"\n",
              "     width=\"24px\">\n",
              "    <g>\n",
              "        <path d=\"M19 3H5c-1.1 0-2 .9-2 2v14c0 1.1.9 2 2 2h14c1.1 0 2-.9 2-2V5c0-1.1-.9-2-2-2zM9 17H7v-7h2v7zm4 0h-2V7h2v10zm4 0h-2v-4h2v4z\"/>\n",
              "    </g>\n",
              "</svg>\n",
              "  </button>\n",
              "\n",
              "<style>\n",
              "  .colab-df-quickchart {\n",
              "      --bg-color: #E8F0FE;\n",
              "      --fill-color: #1967D2;\n",
              "      --hover-bg-color: #E2EBFA;\n",
              "      --hover-fill-color: #174EA6;\n",
              "      --disabled-fill-color: #AAA;\n",
              "      --disabled-bg-color: #DDD;\n",
              "  }\n",
              "\n",
              "  [theme=dark] .colab-df-quickchart {\n",
              "      --bg-color: #3B4455;\n",
              "      --fill-color: #D2E3FC;\n",
              "      --hover-bg-color: #434B5C;\n",
              "      --hover-fill-color: #FFFFFF;\n",
              "      --disabled-bg-color: #3B4455;\n",
              "      --disabled-fill-color: #666;\n",
              "  }\n",
              "\n",
              "  .colab-df-quickchart {\n",
              "    background-color: var(--bg-color);\n",
              "    border: none;\n",
              "    border-radius: 50%;\n",
              "    cursor: pointer;\n",
              "    display: none;\n",
              "    fill: var(--fill-color);\n",
              "    height: 32px;\n",
              "    padding: 0;\n",
              "    width: 32px;\n",
              "  }\n",
              "\n",
              "  .colab-df-quickchart:hover {\n",
              "    background-color: var(--hover-bg-color);\n",
              "    box-shadow: 0 1px 2px rgba(60, 64, 67, 0.3), 0 1px 3px 1px rgba(60, 64, 67, 0.15);\n",
              "    fill: var(--button-hover-fill-color);\n",
              "  }\n",
              "\n",
              "  .colab-df-quickchart-complete:disabled,\n",
              "  .colab-df-quickchart-complete:disabled:hover {\n",
              "    background-color: var(--disabled-bg-color);\n",
              "    fill: var(--disabled-fill-color);\n",
              "    box-shadow: none;\n",
              "  }\n",
              "\n",
              "  .colab-df-spinner {\n",
              "    border: 2px solid var(--fill-color);\n",
              "    border-color: transparent;\n",
              "    border-bottom-color: var(--fill-color);\n",
              "    animation:\n",
              "      spin 1s steps(1) infinite;\n",
              "  }\n",
              "\n",
              "  @keyframes spin {\n",
              "    0% {\n",
              "      border-color: transparent;\n",
              "      border-bottom-color: var(--fill-color);\n",
              "      border-left-color: var(--fill-color);\n",
              "    }\n",
              "    20% {\n",
              "      border-color: transparent;\n",
              "      border-left-color: var(--fill-color);\n",
              "      border-top-color: var(--fill-color);\n",
              "    }\n",
              "    30% {\n",
              "      border-color: transparent;\n",
              "      border-left-color: var(--fill-color);\n",
              "      border-top-color: var(--fill-color);\n",
              "      border-right-color: var(--fill-color);\n",
              "    }\n",
              "    40% {\n",
              "      border-color: transparent;\n",
              "      border-right-color: var(--fill-color);\n",
              "      border-top-color: var(--fill-color);\n",
              "    }\n",
              "    60% {\n",
              "      border-color: transparent;\n",
              "      border-right-color: var(--fill-color);\n",
              "    }\n",
              "    80% {\n",
              "      border-color: transparent;\n",
              "      border-right-color: var(--fill-color);\n",
              "      border-bottom-color: var(--fill-color);\n",
              "    }\n",
              "    90% {\n",
              "      border-color: transparent;\n",
              "      border-bottom-color: var(--fill-color);\n",
              "    }\n",
              "  }\n",
              "</style>\n",
              "\n",
              "  <script>\n",
              "    async function quickchart(key) {\n",
              "      const quickchartButtonEl =\n",
              "        document.querySelector('#' + key + ' button');\n",
              "      quickchartButtonEl.disabled = true;  // To prevent multiple clicks.\n",
              "      quickchartButtonEl.classList.add('colab-df-spinner');\n",
              "      try {\n",
              "        const charts = await google.colab.kernel.invokeFunction(\n",
              "            'suggestCharts', [key], {});\n",
              "      } catch (error) {\n",
              "        console.error('Error during call to suggestCharts:', error);\n",
              "      }\n",
              "      quickchartButtonEl.classList.remove('colab-df-spinner');\n",
              "      quickchartButtonEl.classList.add('colab-df-quickchart-complete');\n",
              "    }\n",
              "    (() => {\n",
              "      let quickchartButtonEl =\n",
              "        document.querySelector('#df-49389c80-94aa-4743-a8cd-7753581ae936 button');\n",
              "      quickchartButtonEl.style.display =\n",
              "        google.colab.kernel.accessAllowed ? 'block' : 'none';\n",
              "    })();\n",
              "  </script>\n",
              "</div>\n",
              "    </div>\n",
              "  </div>\n"
            ]
          },
          "metadata": {},
          "execution_count": 50
        }
      ]
    },
    {
      "cell_type": "markdown",
      "source": [
        "### **Observations**\n",
        "\n",
        "\n",
        "*   There are a total of 100 users.\n",
        "*   Among the users who preferred English, 21 have become subscribers and 11 have not subscribed.\n",
        "*   Among the users who preferred French, 15 have become subscribers and 19 have not subscribed.\n",
        "*   Among the users who preferred Spanish, 18 have become subscribers and 16 have not subscribed.\n",
        "\n",
        "\n",
        "\n"
      ],
      "metadata": {
        "id": "eEDC-YU1yGcj"
      },
      "id": "eEDC-YU1yGcj"
    },
    {
      "cell_type": "code",
      "source": [
        "# Visualize the frequencies of the variables converted and language preferred using stacked bargraph\n",
        "plt.figure(figsize=(8,5))\n",
        "pd.crosstab(df.language_preferred,df.converted,normalize='index').plot(kind='bar',figsize=(12,5),stacked=True)\n",
        "plt.legend(bbox_to_anchor=(0.911,0.9))\n",
        "plt.show()"
      ],
      "metadata": {
        "colab": {
          "base_uri": "https://localhost:8080/",
          "height": 524
        },
        "id": "vamiSjOWy3Ey",
        "outputId": "62dcb952-56f3-4f4f-92fe-cc9838203145"
      },
      "id": "vamiSjOWy3Ey",
      "execution_count": null,
      "outputs": [
        {
          "output_type": "display_data",
          "data": {
            "text/plain": [
              "<Figure size 800x500 with 0 Axes>"
            ]
          },
          "metadata": {}
        },
        {
          "output_type": "display_data",
          "data": {
            "text/plain": [
              "<Figure size 1200x500 with 1 Axes>"
            ],
            "image/png": "[encoded data removed]"
          },
          "metadata": {}
        }
      ]
    },
    {
      "cell_type": "markdown",
      "source": [
        "### **Observations**\n",
        "\n",
        "*   The proportion of the users who preferred English and converted as subscribers is more than those who have not converted.\n",
        "*   The proportion of the users who preferred French and converted as subscribers is less than those who have not converted.\n",
        "*  The proportion of the users who preferred Spanish and converted as subscribers is more than those who have not converted.\n",
        "\n",
        "\n",
        "\n"
      ],
      "metadata": {
        "id": "VtMdmFA70scM"
      },
      "id": "VtMdmFA70scM"
    },
    {
      "cell_type": "markdown",
      "metadata": {
        "id": "LNKSW24z2xWD"
      },
      "source": [
        "### Step 1: Define the null and alternate hypotheses"
      ],
      "id": "LNKSW24z2xWD"
    },
    {
      "cell_type": "markdown",
      "source": [
        "Lets formulate the null and the alternate hypothesis.\n",
        "\n",
        "Null Hypothesis:\n",
        "\n",
        "$H_0:$ Conversion status and the language preferred are independent of each other.\n",
        "\n",
        "Alternate Hypothesis:\n",
        "\n",
        "$H_a:$ Conversion status and the language preferred are not independent of each other."
      ],
      "metadata": {
        "id": "qJKkEGUY2y8E"
      },
      "id": "qJKkEGUY2y8E"
    },
    {
      "cell_type": "markdown",
      "metadata": {
        "id": "wWUxXTkN3xKA"
      },
      "source": [
        "### Step 2: Select Appropriate test"
      ],
      "id": "wWUxXTkN3xKA"
    },
    {
      "cell_type": "markdown",
      "metadata": {
        "id": "B2xEwLAm30Sf"
      },
      "source": [
        "The question states about two categorical variables, Converted and language preferred. Hence to test the dependency between the two categorical variables lets perform the **Chi-Square test of independence** on the formulated hypothesis.\n",
        "\n",
        "Let's check the assumptions for Chi-Square test is satisfied:\n",
        "\n",
        "* Categorical variables - Yes\n",
        "* Expected value of the number of sample observations in each level of the variable is at least 5 - Yes, the number of observations in each level is greater than 5.\n",
        "* Random sampling from the population - Yes, the collected sample is a simple random sample.\n",
        "\n"
      ],
      "id": "B2xEwLAm30Sf"
    },
    {
      "cell_type": "markdown",
      "metadata": {
        "id": "wgfiOZoF4nDd"
      },
      "source": [
        "### Step 3: Decide the significance level"
      ],
      "id": "wgfiOZoF4nDd"
    },
    {
      "cell_type": "markdown",
      "source": [
        "As per the problem statement the level of significance $\\alpha = 0.05$"
      ],
      "metadata": {
        "id": "2IchjG-T4pwk"
      },
      "id": "2IchjG-T4pwk"
    },
    {
      "cell_type": "markdown",
      "metadata": {
        "id": "BD21YbeP4tBX"
      },
      "source": [
        "### Step 4: Collect and prepare data"
      ],
      "id": "BD21YbeP4tBX"
    },
    {
      "cell_type": "markdown",
      "source": [
        "Lets collect the necessary data required for the Chi-Square test of independence. We require the contingency table with the values of the language preferred and the converted status to perform the test."
      ],
      "metadata": {
        "id": "z_dPDODA4vio"
      },
      "id": "z_dPDODA4vio"
    },
    {
      "cell_type": "code",
      "source": [
        "# create contingency table of the categorical variables language preferred and converted\n",
        "contingency_table = pd.crosstab(df['language_preferred'], df['converted'])\n",
        "contingency_table"
      ],
      "metadata": {
        "colab": {
          "base_uri": "https://localhost:8080/",
          "height": 175
        },
        "id": "1lC0EWTw5v79",
        "outputId": "c2058b4d-8082-476f-919b-9be88b3a97e2"
      },
      "id": "1lC0EWTw5v79",
      "execution_count": null,
      "outputs": [
        {
          "output_type": "execute_result",
          "data": {
            "text/plain": [
              "converted           no  yes\n",
              "language_preferred         \n",
              "English             11   21\n",
              "French              19   15\n",
              "Spanish             16   18"
            ],
            "text/html": [
              "\n",
              "  <div id=\"df-e1755981-4f0c-40e5-a268-6059ecfc4b3f\" class=\"colab-df-container\">\n",
              "    <div>\n",
              "<style scoped>\n",
              "    .dataframe tbody tr th:only-of-type {\n",
              "        vertical-align: middle;\n",
              "    }\n",
              "\n",
              "    .dataframe tbody tr th {\n",
              "        vertical-align: top;\n",
              "    }\n",
              "\n",
              "    .dataframe thead th {\n",
              "        text-align: right;\n",
              "    }\n",
              "</style>\n",
              "<table border=\"1\" class=\"dataframe\">\n",
              "  <thead>\n",
              "    <tr style=\"text-align: right;\">\n",
              "      <th>converted</th>\n",
              "      <th>no</th>\n",
              "      <th>yes</th>\n",
              "    </tr>\n",
              "    <tr>\n",
              "      <th>language_preferred</th>\n",
              "      <th></th>\n",
              "      <th></th>\n",
              "    </tr>\n",
              "  </thead>\n",
              "  <tbody>\n",
              "    <tr>\n",
              "      <th>English</th>\n",
              "      <td>11</td>\n",
              "      <td>21</td>\n",
              "    </tr>\n",
              "    <tr>\n",
              "      <th>French</th>\n",
              "      <td>19</td>\n",
              "      <td>15</td>\n",
              "    </tr>\n",
              "    <tr>\n",
              "      <th>Spanish</th>\n",
              "      <td>16</td>\n",
              "      <td>18</td>\n",
              "    </tr>\n",
              "  </tbody>\n",
              "</table>\n",
              "</div>\n",
              "    <div class=\"colab-df-buttons\">\n",
              "\n",
              "  <div class=\"colab-df-container\">\n",
              "    <button class=\"colab-df-convert\" onclick=\"convertToInteractive('df-e1755981-4f0c-40e5-a268-6059ecfc4b3f')\"\n",
              "            title=\"Convert this dataframe to an interactive table.\"\n",
              "            style=\"display:none;\">\n",
              "\n",
              "  <svg xmlns=\"http://www.w3.org/2000/svg\" height=\"24px\" viewBox=\"0 -960 960 960\">\n",
              "    <path d=\"M120-120v-720h720v720H120Zm60-500h600v-160H180v160Zm220 220h160v-160H400v160Zm0 220h160v-160H400v160ZM180-400h160v-160H180v160Zm440 0h160v-160H620v160ZM180-180h160v-160H180v160Zm440 0h160v-160H620v160Z\"/>\n",
              "  </svg>\n",
              "    </button>\n",
              "\n",
              "  <style>\n",
              "    .colab-df-container {\n",
              "      display:flex;\n",
              "      gap: 12px;\n",
              "    }\n",
              "\n",
              "    .colab-df-convert {\n",
              "      background-color: #E8F0FE;\n",
              "      border: none;\n",
              "      border-radius: 50%;\n",
              "      cursor: pointer;\n",
              "      display: none;\n",
              "      fill: #1967D2;\n",
              "      height: 32px;\n",
              "      padding: 0 0 0 0;\n",
              "      width: 32px;\n",
              "    }\n",
              "\n",
              "    .colab-df-convert:hover {\n",
              "      background-color: #E2EBFA;\n",
              "      box-shadow: 0px 1px 2px rgba(60, 64, 67, 0.3), 0px 1px 3px 1px rgba(60, 64, 67, 0.15);\n",
              "      fill: #174EA6;\n",
              "    }\n",
              "\n",
              "    .colab-df-buttons div {\n",
              "      margin-bottom: 4px;\n",
              "    }\n",
              "\n",
              "    [theme=dark] .colab-df-convert {\n",
              "      background-color: #3B4455;\n",
              "      fill: #D2E3FC;\n",
              "    }\n",
              "\n",
              "    [theme=dark] .colab-df-convert:hover {\n",
              "      background-color: #434B5C;\n",
              "      box-shadow: 0px 1px 3px 1px rgba(0, 0, 0, 0.15);\n",
              "      filter: drop-shadow(0px 1px 2px rgba(0, 0, 0, 0.3));\n",
              "      fill: #FFFFFF;\n",
              "    }\n",
              "  </style>\n",
              "\n",
              "    <script>\n",
              "      const buttonEl =\n",
              "        document.querySelector('#df-e1755981-4f0c-40e5-a268-6059ecfc4b3f button.colab-df-convert');\n",
              "      buttonEl.style.display =\n",
              "        google.colab.kernel.accessAllowed ? 'block' : 'none';\n",
              "\n",
              "      async function convertToInteractive(key) {\n",
              "        const element = document.querySelector('#df-e1755981-4f0c-40e5-a268-6059ecfc4b3f');\n",
              "        const dataTable =\n",
              "          await google.colab.kernel.invokeFunction('convertToInteractive',\n",
              "                                                    [key], {});\n",
              "        if (!dataTable) return;\n",
              "\n",
              "        const docLinkHtml = 'Like what you see? Visit the ' +\n",
              "          '<a target=\"_blank\" href=https://colab.research.google.com/notebooks/data_table.ipynb>data table notebook</a>'\n",
              "          + ' to learn more about interactive tables.';\n",
              "        element.innerHTML = '';\n",
              "        dataTable['output_type'] = 'display_data';\n",
              "        await google.colab.output.renderOutput(dataTable, element);\n",
              "        const docLink = document.createElement('div');\n",
              "        docLink.innerHTML = docLinkHtml;\n",
              "        element.appendChild(docLink);\n",
              "      }\n",
              "    </script>\n",
              "  </div>\n",
              "\n",
              "\n",
              "<div id=\"df-a46ca8d1-c813-41cb-a6ea-28710e2b2a25\">\n",
              "  <button class=\"colab-df-quickchart\" onclick=\"quickchart('df-a46ca8d1-c813-41cb-a6ea-28710e2b2a25')\"\n",
              "            title=\"Suggest charts.\"\n",
              "            style=\"display:none;\">\n",
              "\n",
              "<svg xmlns=\"http://www.w3.org/2000/svg\" height=\"24px\"viewBox=\"0 0 24 24\"\n",
              "     width=\"24px\">\n",
              "    <g>\n",
              "        <path d=\"M19 3H5c-1.1 0-2 .9-2 2v14c0 1.1.9 2 2 2h14c1.1 0 2-.9 2-2V5c0-1.1-.9-2-2-2zM9 17H7v-7h2v7zm4 0h-2V7h2v10zm4 0h-2v-4h2v4z\"/>\n",
              "    </g>\n",
              "</svg>\n",
              "  </button>\n",
              "\n",
              "<style>\n",
              "  .colab-df-quickchart {\n",
              "      --bg-color: #E8F0FE;\n",
              "      --fill-color: #1967D2;\n",
              "      --hover-bg-color: #E2EBFA;\n",
              "      --hover-fill-color: #174EA6;\n",
              "      --disabled-fill-color: #AAA;\n",
              "      --disabled-bg-color: #DDD;\n",
              "  }\n",
              "\n",
              "  [theme=dark] .colab-df-quickchart {\n",
              "      --bg-color: #3B4455;\n",
              "      --fill-color: #D2E3FC;\n",
              "      --hover-bg-color: #434B5C;\n",
              "      --hover-fill-color: #FFFFFF;\n",
              "      --disabled-bg-color: #3B4455;\n",
              "      --disabled-fill-color: #666;\n",
              "  }\n",
              "\n",
              "  .colab-df-quickchart {\n",
              "    background-color: var(--bg-color);\n",
              "    border: none;\n",
              "    border-radius: 50%;\n",
              "    cursor: pointer;\n",
              "    display: none;\n",
              "    fill: var(--fill-color);\n",
              "    height: 32px;\n",
              "    padding: 0;\n",
              "    width: 32px;\n",
              "  }\n",
              "\n",
              "  .colab-df-quickchart:hover {\n",
              "    background-color: var(--hover-bg-color);\n",
              "    box-shadow: 0 1px 2px rgba(60, 64, 67, 0.3), 0 1px 3px 1px rgba(60, 64, 67, 0.15);\n",
              "    fill: var(--button-hover-fill-color);\n",
              "  }\n",
              "\n",
              "  .colab-df-quickchart-complete:disabled,\n",
              "  .colab-df-quickchart-complete:disabled:hover {\n",
              "    background-color: var(--disabled-bg-color);\n",
              "    fill: var(--disabled-fill-color);\n",
              "    box-shadow: none;\n",
              "  }\n",
              "\n",
              "  .colab-df-spinner {\n",
              "    border: 2px solid var(--fill-color);\n",
              "    border-color: transparent;\n",
              "    border-bottom-color: var(--fill-color);\n",
              "    animation:\n",
              "      spin 1s steps(1) infinite;\n",
              "  }\n",
              "\n",
              "  @keyframes spin {\n",
              "    0% {\n",
              "      border-color: transparent;\n",
              "      border-bottom-color: var(--fill-color);\n",
              "      border-left-color: var(--fill-color);\n",
              "    }\n",
              "    20% {\n",
              "      border-color: transparent;\n",
              "      border-left-color: var(--fill-color);\n",
              "      border-top-color: var(--fill-color);\n",
              "    }\n",
              "    30% {\n",
              "      border-color: transparent;\n",
              "      border-left-color: var(--fill-color);\n",
              "      border-top-color: var(--fill-color);\n",
              "      border-right-color: var(--fill-color);\n",
              "    }\n",
              "    40% {\n",
              "      border-color: transparent;\n",
              "      border-right-color: var(--fill-color);\n",
              "      border-top-color: var(--fill-color);\n",
              "    }\n",
              "    60% {\n",
              "      border-color: transparent;\n",
              "      border-right-color: var(--fill-color);\n",
              "    }\n",
              "    80% {\n",
              "      border-color: transparent;\n",
              "      border-right-color: var(--fill-color);\n",
              "      border-bottom-color: var(--fill-color);\n",
              "    }\n",
              "    90% {\n",
              "      border-color: transparent;\n",
              "      border-bottom-color: var(--fill-color);\n",
              "    }\n",
              "  }\n",
              "</style>\n",
              "\n",
              "  <script>\n",
              "    async function quickchart(key) {\n",
              "      const quickchartButtonEl =\n",
              "        document.querySelector('#' + key + ' button');\n",
              "      quickchartButtonEl.disabled = true;  // To prevent multiple clicks.\n",
              "      quickchartButtonEl.classList.add('colab-df-spinner');\n",
              "      try {\n",
              "        const charts = await google.colab.kernel.invokeFunction(\n",
              "            'suggestCharts', [key], {});\n",
              "      } catch (error) {\n",
              "        console.error('Error during call to suggestCharts:', error);\n",
              "      }\n",
              "      quickchartButtonEl.classList.remove('colab-df-spinner');\n",
              "      quickchartButtonEl.classList.add('colab-df-quickchart-complete');\n",
              "    }\n",
              "    (() => {\n",
              "      let quickchartButtonEl =\n",
              "        document.querySelector('#df-a46ca8d1-c813-41cb-a6ea-28710e2b2a25 button');\n",
              "      quickchartButtonEl.style.display =\n",
              "        google.colab.kernel.accessAllowed ? 'block' : 'none';\n",
              "    })();\n",
              "  </script>\n",
              "</div>\n",
              "    </div>\n",
              "  </div>\n"
            ]
          },
          "metadata": {},
          "execution_count": 52
        }
      ]
    },
    {
      "cell_type": "markdown",
      "metadata": {
        "id": "rHVYENVa8HPX"
      },
      "source": [
        "### Step 5: Calculate the p-value"
      ],
      "id": "rHVYENVa8HPX"
    },
    {
      "cell_type": "markdown",
      "source": [
        "The chi2_contingency() function in scipy is used to perform the Chi-Square test for independence."
      ],
      "metadata": {
        "id": "koul1Ktr9lEV"
      },
      "id": "koul1Ktr9lEV"
    },
    {
      "cell_type": "code",
      "source": [
        "# import the required function\n",
        "from scipy.stats import chi2_contingency\n",
        "\n",
        "# find the p-value\n",
        "chi, p_value, dof, expected = chi2_contingency(contingency_table)\n",
        "print('The p-value is', p_value)"
      ],
      "metadata": {
        "colab": {
          "base_uri": "https://localhost:8080/"
        },
        "id": "sqPvZYvR9xqX",
        "outputId": "172da452-c205-403b-96ed-f58ee960654a"
      },
      "id": "sqPvZYvR9xqX",
      "execution_count": null,
      "outputs": [
        {
          "output_type": "stream",
          "name": "stdout",
          "text": [
            "The p-value is 0.2129888748754345\n"
          ]
        }
      ]
    },
    {
      "cell_type": "markdown",
      "metadata": {
        "id": "srZkr9Ou-m-x"
      },
      "source": [
        "### Step 6: Compare the p-value with $\\alpha$"
      ],
      "id": "srZkr9Ou-m-x"
    },
    {
      "cell_type": "code",
      "source": [
        "# Conclusion based on the computed p-value\n",
        "if p_value < 0.05:\n",
        "    print(f'As the p-value {p_value} is less than the level of significance, we reject the null hypothesis.')\n",
        "else:\n",
        "    print(f'As the p-value {p_value} is greater than the level of significance, we fail to reject the null hypothesis.')"
      ],
      "metadata": {
        "colab": {
          "base_uri": "https://localhost:8080/"
        },
        "id": "tJ0d7CYU-raE",
        "outputId": "86c212d0-3ea6-44b0-c040-651a6a1dd7c0"
      },
      "id": "tJ0d7CYU-raE",
      "execution_count": null,
      "outputs": [
        {
          "output_type": "stream",
          "name": "stdout",
          "text": [
            "As the p-value 0.2129888748754345 is greater than the level of significance, we fail to reject the null hypothesis.\n"
          ]
        }
      ]
    },
    {
      "cell_type": "markdown",
      "metadata": {
        "id": "t28i73LO_ZrP"
      },
      "source": [
        "### Step 7:  Draw inference"
      ],
      "id": "t28i73LO_ZrP"
    },
    {
      "cell_type": "markdown",
      "metadata": {
        "id": "yRBYROAa_cxD"
      },
      "source": [
        "Based on the above computed test on the formulated hypothesis we can conclude that the p-value is greater than the level of significance(0.05).\n",
        "\n",
        "**Hence we fail to reject the null hypothesis as we do have enough statistical evidence to show that the conversion status and language preferred are independent of each other.**"
      ],
      "id": "yRBYROAa_cxD"
    },
    {
      "cell_type": "markdown",
      "metadata": {
        "id": "8d585a90"
      },
      "source": [
        "## 4. Is the time spent on the new page same for the different language users?"
      ],
      "id": "8d585a90"
    },
    {
      "cell_type": "markdown",
      "metadata": {
        "id": "skr45qrT-gLM"
      },
      "source": [
        "### Perform Visual Analysis"
      ],
      "id": "skr45qrT-gLM"
    },
    {
      "cell_type": "markdown",
      "source": [
        "As per the question we need to check whether the time spent by the users who preferred the languages English, Spanish and French on the new landing page are same. Hence lets create boxplots for the time spent by the users preferring each of the three languages, visualize the distribution and also analyse the variation on the average time spent between the three preferred languages on the new landing page."
      ],
      "metadata": {
        "id": "FTSiYa0A-nVH"
      },
      "id": "FTSiYa0A-nVH"
    },
    {
      "cell_type": "code",
      "source": [
        "# creating a subset dataframe with the data of the new landing page\n",
        "df_n = df[df['landing_page'] == 'new']"
      ],
      "metadata": {
        "id": "9SYT9_K_ETdL"
      },
      "id": "9SYT9_K_ETdL",
      "execution_count": null,
      "outputs": []
    },
    {
      "cell_type": "code",
      "source": [
        "# Finding the mean time spent on the new landing page by the three language (English, Spanish and French) users\n",
        "df_n_time_mean = df_n.groupby('language_preferred')['time_spent_on_the_page'].mean()\n",
        "print(\"The mean time spent by the English, French and Spanish language users on the new landing page is\\n\", df_n_time_mean)"
      ],
      "metadata": {
        "colab": {
          "base_uri": "https://localhost:8080/"
        },
        "id": "67ScQK3ZNA7v",
        "outputId": "445cbf4a-316b-4719-e333-511c8e6d209c"
      },
      "id": "67ScQK3ZNA7v",
      "execution_count": null,
      "outputs": [
        {
          "output_type": "stream",
          "name": "stdout",
          "text": [
            "The mean time spent by the English, French and Spanish language users on the new landing page is\n",
            " language_preferred\n",
            "English    6.663750\n",
            "French     6.196471\n",
            "Spanish    5.835294\n",
            "Name: time_spent_on_the_page, dtype: float64\n"
          ]
        }
      ]
    },
    {
      "cell_type": "code",
      "source": [
        "# Visualize the relationship between the Language preferred and the time spent on the new landing page\n",
        "plt.figure(figsize=(7,5))\n",
        "sns.boxplot(data=df_n,x='language_preferred',y='time_spent_on_the_page',showmeans=True,meanprops={\"markerfacecolor\":\"red\",\n",
        "                                                                                                  \"markeredgecolor\":\"black\",\"markersize\":\"10\"})\n",
        "plt.show()"
      ],
      "metadata": {
        "colab": {
          "base_uri": "https://localhost:8080/",
          "height": 465
        },
        "id": "fCvADD83_vVW",
        "outputId": "64ba045a-60b2-41fa-c14f-cd57f2db8043"
      },
      "id": "fCvADD83_vVW",
      "execution_count": null,
      "outputs": [
        {
          "output_type": "display_data",
          "data": {
            "text/plain": [
              "<Figure size 700x500 with 1 Axes>"
            ],
            "image/png": "[encoded data removed]"
          },
          "metadata": {}
        }
      ]
    },
    {
      "cell_type": "markdown",
      "source": [
        "### **Observations**\n",
        "\n",
        "\n",
        "\n",
        "*   The median time spent by users who preferred English is more compared to Spanish and French.\n",
        "*   The median time spent by users who preferred French is very low and is close to the 25th percentile.\n",
        "*   The maximum time spent by the users who preferred English is more compared to Spanish and French.\n",
        "\n",
        "\n",
        "\n",
        "\n"
      ],
      "metadata": {
        "id": "3TtoC-5iAExC"
      },
      "id": "3TtoC-5iAExC"
    },
    {
      "cell_type": "markdown",
      "metadata": {
        "id": "UWRTtOXPBZjB"
      },
      "source": [
        "### Step 1: Define the null and alternate hypotheses"
      ],
      "id": "UWRTtOXPBZjB"
    },
    {
      "cell_type": "markdown",
      "source": [
        "Let $\\mu_1, \\mu_2, \\mu_3$ be the means of time spent on the new landing page by the users who preferred Spanish, English and French.\n",
        "\n",
        "Null hypothesis\n",
        "\n",
        "The mean time spent on the new landing page by the users who preferred Spanish, English and French are same.\n",
        "\n",
        ">$H_0: \\mu_1 = \\mu_2 = \\mu_3$\n",
        "\n",
        "Alternate hypothesis\n",
        "\n",
        ">$H_a: $ At least the mean time spent on the new landing page by one language user is significantly different from the rest."
      ],
      "metadata": {
        "id": "gM16myUZBaU4"
      },
      "id": "gM16myUZBaU4"
    },
    {
      "cell_type": "markdown",
      "metadata": {
        "id": "YMuaA6sSCyZw"
      },
      "source": [
        "### Step 2: Select Appropriate test"
      ],
      "id": "YMuaA6sSCyZw"
    },
    {
      "cell_type": "markdown",
      "metadata": {
        "id": "kxtmPvHnC2Hx"
      },
      "source": [
        "The question states about the time spent by users who preferred three languages English, Spanish and French on the new landing page. Hence we are considering three independent population to compare and determine the results. The test to perform on the formulated hypothesis considering more than 2 independent population and finding the variation of the mean between them is **One way ANOVA test.**\n",
        "\n",
        "To proceed with the One way ANOVA test we need to check if the assumptions of One way ANOVA test is satisfied. The assumptions for ANOVA test are,\n",
        "\n",
        "1. The distribution of all the three population are normal.\n",
        "2. The Population variances are equal.\n",
        "\n",
        "To test the first assumption of normality lets perform the Shapiro Wilk's test and to test the equality of the variance of the populations lets perform the Levene test.\n"
      ],
      "id": "kxtmPvHnC2Hx"
    },
    {
      "cell_type": "markdown",
      "source": [
        "**Shapiro Wilk's test**\n",
        "\n",
        "Lets formulate the Null and Alternative Hypothesis.\n",
        "\n",
        "Null Hypothesis:\n",
        "\n",
        "The time spent on the new page follows a normal distribution.\n",
        "\n",
        "Alternative Hypothesis:\n",
        "\n",
        "The time spent on the new page does not follow a normal distribution."
      ],
      "metadata": {
        "id": "VYwpoqxqPapS"
      },
      "id": "VYwpoqxqPapS"
    },
    {
      "cell_type": "code",
      "source": [
        "# Assumption 1: Normality\n",
        "# import the required function\n",
        "from scipy import stats\n",
        "\n",
        "# find the p-value\n",
        "w, p_value = stats.shapiro(df_n['time_spent_on_the_page'])\n",
        "print('The p-value is', p_value)"
      ],
      "metadata": {
        "colab": {
          "base_uri": "https://localhost:8080/"
        },
        "id": "nP_7f2wZQHzb",
        "outputId": "02c39364-9318-4cad-c45b-ad5f7f5ef824"
      },
      "id": "nP_7f2wZQHzb",
      "execution_count": null,
      "outputs": [
        {
          "output_type": "stream",
          "name": "stdout",
          "text": [
            "The p-value is 0.8040016293525696\n"
          ]
        }
      ]
    },
    {
      "cell_type": "markdown",
      "source": [
        "As the p-value determined from the Shapiro Wilk's test is greater than the level of significance of 0.05, we fail to reject the Null Hypothesis. Hence we prove the first assumption of normality."
      ],
      "metadata": {
        "id": "0IqqqbtwQgTV"
      },
      "id": "0IqqqbtwQgTV"
    },
    {
      "cell_type": "markdown",
      "source": [
        "**Levene Test**\n",
        "\n",
        "Lets formulate the Null and the Alternative Hypothesis.\n",
        "\n",
        "Null Hypothesis:\n",
        "\n",
        "The Population variances of all the three population are equal.\n",
        "\n",
        "Alternative Hypothesis:\n",
        "\n",
        "Atleast one Population variance is different from the rest."
      ],
      "metadata": {
        "id": "c3Nd_uTdQ4Wf"
      },
      "id": "c3Nd_uTdQ4Wf"
    },
    {
      "cell_type": "code",
      "source": [
        "#Assumption 2: Homogeneity of Variance\n",
        "#import the required function\n",
        "from scipy.stats import levene\n",
        "statistic, p_value = levene( df_n['time_spent_on_the_page'][df_n['language_preferred']==\"English\"],\n",
        "                                   df_n['time_spent_on_the_page'][df_n['language_preferred']==\"Spanish\"],\n",
        "                                   df_n['time_spent_on_the_page'][df_n['language_preferred']==\"French\"])\n",
        "# find the p-value\n",
        "print('The p-value is', p_value)"
      ],
      "metadata": {
        "colab": {
          "base_uri": "https://localhost:8080/"
        },
        "id": "2i94Qp_QRbuE",
        "outputId": "c3e3e399-9f80-4eb8-8ceb-637bb1b0c6ae"
      },
      "id": "2i94Qp_QRbuE",
      "execution_count": null,
      "outputs": [
        {
          "output_type": "stream",
          "name": "stdout",
          "text": [
            "The p-value is 0.46711357711340173\n"
          ]
        }
      ]
    },
    {
      "cell_type": "markdown",
      "source": [
        "As the p-value determined from the Levene test is greater than the level of significance of 0.05, we fail to reject the Null Hypothesis. Hence we prove the second assumption, equality of variance."
      ],
      "metadata": {
        "id": "rqEbSsX1SC3G"
      },
      "id": "rqEbSsX1SC3G"
    },
    {
      "cell_type": "markdown",
      "metadata": {
        "id": "3W4kx8PKGugJ"
      },
      "source": [
        "### Step 3: Decide the significance level"
      ],
      "id": "3W4kx8PKGugJ"
    },
    {
      "cell_type": "markdown",
      "source": [
        "As per the problem statement the level of significance $\\alpha = 0.05$"
      ],
      "metadata": {
        "id": "K7lMye9pGvoE"
      },
      "id": "K7lMye9pGvoE"
    },
    {
      "cell_type": "markdown",
      "metadata": {
        "id": "z1g7C0TPG4BK"
      },
      "source": [
        "### Step 4: Collect and prepare data"
      ],
      "id": "z1g7C0TPG4BK"
    },
    {
      "cell_type": "markdown",
      "source": [
        "To perform one way ANOVA test, we need the time spent on the new page by each of the three language users. Hence lets collect the data for the same."
      ],
      "metadata": {
        "id": "-pCTVL44HZGf"
      },
      "id": "-pCTVL44HZGf"
    },
    {
      "cell_type": "code",
      "source": [
        "# Creating three subset dataframes with the time spent by the English, Spanish and French language users on the new landing page\n",
        "timespent_English = df_n[df_n['language_preferred'] == 'English']['time_spent_on_the_page']\n",
        "timespent_Spanish = df_n[df_n['language_preferred'] == 'Spanish']['time_spent_on_the_page']\n",
        "timespent_French = df_n[df_n['language_preferred'] == 'French']['time_spent_on_the_page']"
      ],
      "metadata": {
        "id": "eE-ikcwV_nfZ"
      },
      "id": "eE-ikcwV_nfZ",
      "execution_count": null,
      "outputs": []
    },
    {
      "cell_type": "markdown",
      "metadata": {
        "id": "XmhBjPwUJajF"
      },
      "source": [
        "### Step 5: Calculate the p-value"
      ],
      "id": "XmhBjPwUJajF"
    },
    {
      "cell_type": "markdown",
      "source": [
        "The f_oneway() function of Scipy will be used to compute the test statistic and p-value."
      ],
      "metadata": {
        "id": "--ssjCuoJenU"
      },
      "id": "--ssjCuoJenU"
    },
    {
      "cell_type": "code",
      "source": [
        "#import the required function\n",
        "from scipy.stats import f_oneway\n",
        "\n",
        "# perform one-way anova test\n",
        "test_stat, p_value = f_oneway(timespent_English, timespent_Spanish, timespent_French)\n",
        "print('The p-value is ' + str(p_value))"
      ],
      "metadata": {
        "colab": {
          "base_uri": "https://localhost:8080/"
        },
        "id": "RSB2WUjKJu1Z",
        "outputId": "2e05c56d-7de2-4f17-8876-999e11950966"
      },
      "id": "RSB2WUjKJu1Z",
      "execution_count": null,
      "outputs": [
        {
          "output_type": "stream",
          "name": "stdout",
          "text": [
            "The p-value is 0.43204138694325955\n"
          ]
        }
      ]
    },
    {
      "cell_type": "markdown",
      "metadata": {
        "id": "ZqsS1RglLAHI"
      },
      "source": [
        "### Step 6: Compare the p-value with $\\alpha$"
      ],
      "id": "ZqsS1RglLAHI"
    },
    {
      "cell_type": "code",
      "source": [
        "# Conclusion based on the computed p-value\n",
        "if p_value < 0.05:\n",
        "    print(f'As the p-value {p_value} is less than the level of significance, we reject the null hypothesis.')\n",
        "else:\n",
        "    print(f'As the p-value {p_value} is greater than the level of significance, we fail to reject the null hypothesis.')"
      ],
      "metadata": {
        "colab": {
          "base_uri": "https://localhost:8080/"
        },
        "id": "uVDdE5TvJeF9",
        "outputId": "d3c7c0e9-e256-4dc1-cbc8-e46c164e356f"
      },
      "id": "uVDdE5TvJeF9",
      "execution_count": null,
      "outputs": [
        {
          "output_type": "stream",
          "name": "stdout",
          "text": [
            "As the p-value 0.43204138694325955 is greater than the level of significance, we fail to reject the null hypothesis.\n"
          ]
        }
      ]
    },
    {
      "cell_type": "markdown",
      "metadata": {
        "id": "nKpyylKbLL92"
      },
      "source": [
        "### Step 7:  Draw inference"
      ],
      "id": "nKpyylKbLL92"
    },
    {
      "cell_type": "markdown",
      "metadata": {
        "id": "-oSYe9NDLQQ6"
      },
      "source": [
        "Based on the above computed test on the formulated hypothesis we can conclude that the p-value is greater than the level of significance(0.05).\n",
        "\n",
        "**Hence we fail to reject the null hypothesis as we do have enough statistical evidence to show that the time spent on the new landing page by the users who preferred the languages English, Spanish and French are same.**"
      ],
      "id": "-oSYe9NDLQQ6"
    },
    {
      "cell_type": "markdown",
      "metadata": {
        "id": "3acbc947"
      },
      "source": [
        "## Conclusion and Business Recommendations"
      ],
      "id": "3acbc947"
    },
    {
      "cell_type": "markdown",
      "source": [
        "From the sample data of the abtest dataset, we observed that\n",
        "\n",
        "*   75% of the users have spent atleast 7 minutes on the E-news express page.\n",
        "*   The users atleast spend a minimum of 19 seconds on the E-new express landing page.\n",
        "*   The mean and the median time spent on the page are almost same.\n",
        "\n",
        "**Conclusions on the statistical tests performed:**\n",
        "1. The statistical evidence (p-value of 0.00013 at 5% level of significance) confirm that the users spend more time on the new landing page compared to the old landing page of E-news express portal.\n",
        "2. There is enough statistical evidence (p-value of 0.0080 at 5% level of significance) to conclude that the users of the new landing page who became subscribers of the E-news express portal is more compared to the old landing page.\n",
        "3. The statistical evidence(p-value of 0.2129 at 5% level of significance) confirm that the rate of users who became subscribers of the\n",
        "E-News express portal does not depend on the language they preferred to view the landing page.\n",
        "4. There is enough statistical evidence(p-value of 0.4320 at 5% level of significance) to conclude that the time spent on the new landing page by all the three language users are same.\n",
        "\n",
        "**Business Recommendations:**\n",
        "\n",
        "The new landing page design has significantly increased the number of subscribers of the E-News express portal. The executive team of the E-News express can consider the design team's strategy on the redesigned version of the landing page and implement it to improve the business.\n"
      ],
      "metadata": {
        "id": "h6WHqCPGtIKs"
      },
      "id": "h6WHqCPGtIKs"
    },
    {
      "cell_type": "markdown",
      "source": [
        "___"
      ],
      "metadata": {
        "id": "U0dAd4i0iCHo"
      },
      "id": "U0dAd4i0iCHo"
    }
  ]
}